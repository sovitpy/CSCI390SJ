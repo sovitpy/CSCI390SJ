{
 "cells": [
  {
   "cell_type": "code",
   "execution_count": 176,
   "id": "82651cfe",
   "metadata": {},
   "outputs": [],
   "source": [
    "import pandas as pd\n",
    "import matplotlib.pyplot as plt\n",
    "import numpy as np\n",
    "%matplotlib inline"
   ]
  },
  {
   "cell_type": "code",
   "execution_count": 111,
   "id": "a92f7b8e",
   "metadata": {},
   "outputs": [],
   "source": [
    "df = pd.read_csv('final_data.csv')"
   ]
  },
  {
   "cell_type": "code",
   "execution_count": 23,
   "id": "c39c8ba3",
   "metadata": {},
   "outputs": [],
   "source": [
    "df1 = df[['zip_code','pct_homeownership_black_alone','Black_All_loans','Total_All_loans','pct_bach_degree_or_higher_black_alone','pct_below_poverty_black_alone']]"
   ]
  },
  {
   "cell_type": "code",
   "execution_count": 34,
   "id": "5d08f22d",
   "metadata": {},
   "outputs": [],
   "source": [
    "clean_df = df1.dropna()"
   ]
  },
  {
   "cell_type": "code",
   "execution_count": 73,
   "id": "a3057a8b",
   "metadata": {},
   "outputs": [],
   "source": [
    "clean_df['pct_black_loans'] = (clean_df['Black_All_loans']/clean_df['Total_All_loans'])*100"
   ]
  },
  {
   "cell_type": "code",
   "execution_count": 74,
   "id": "24385a94",
   "metadata": {},
   "outputs": [],
   "source": [
    "X = clean_df[['pct_homeownership_black_alone','pct_black_loans','pct_bach_degree_or_higher_black_alone']]\n",
    "Y = clean_df['pct_below_poverty_black_alone']"
   ]
  },
  {
   "cell_type": "code",
   "execution_count": 75,
   "id": "7791302f",
   "metadata": {},
   "outputs": [],
   "source": [
    "from sklearn.preprocessing import StandardScaler\n",
    "from sklearn.model_selection import train_test_split"
   ]
  },
  {
   "cell_type": "code",
   "execution_count": 76,
   "id": "5f3daca8",
   "metadata": {},
   "outputs": [
    {
     "data": {
      "text/html": [
       "<style>#sk-container-id-4 {color: black;background-color: white;}#sk-container-id-4 pre{padding: 0;}#sk-container-id-4 div.sk-toggleable {background-color: white;}#sk-container-id-4 label.sk-toggleable__label {cursor: pointer;display: block;width: 100%;margin-bottom: 0;padding: 0.3em;box-sizing: border-box;text-align: center;}#sk-container-id-4 label.sk-toggleable__label-arrow:before {content: \"▸\";float: left;margin-right: 0.25em;color: #696969;}#sk-container-id-4 label.sk-toggleable__label-arrow:hover:before {color: black;}#sk-container-id-4 div.sk-estimator:hover label.sk-toggleable__label-arrow:before {color: black;}#sk-container-id-4 div.sk-toggleable__content {max-height: 0;max-width: 0;overflow: hidden;text-align: left;background-color: #f0f8ff;}#sk-container-id-4 div.sk-toggleable__content pre {margin: 0.2em;color: black;border-radius: 0.25em;background-color: #f0f8ff;}#sk-container-id-4 input.sk-toggleable__control:checked~div.sk-toggleable__content {max-height: 200px;max-width: 100%;overflow: auto;}#sk-container-id-4 input.sk-toggleable__control:checked~label.sk-toggleable__label-arrow:before {content: \"▾\";}#sk-container-id-4 div.sk-estimator input.sk-toggleable__control:checked~label.sk-toggleable__label {background-color: #d4ebff;}#sk-container-id-4 div.sk-label input.sk-toggleable__control:checked~label.sk-toggleable__label {background-color: #d4ebff;}#sk-container-id-4 input.sk-hidden--visually {border: 0;clip: rect(1px 1px 1px 1px);clip: rect(1px, 1px, 1px, 1px);height: 1px;margin: -1px;overflow: hidden;padding: 0;position: absolute;width: 1px;}#sk-container-id-4 div.sk-estimator {font-family: monospace;background-color: #f0f8ff;border: 1px dotted black;border-radius: 0.25em;box-sizing: border-box;margin-bottom: 0.5em;}#sk-container-id-4 div.sk-estimator:hover {background-color: #d4ebff;}#sk-container-id-4 div.sk-parallel-item::after {content: \"\";width: 100%;border-bottom: 1px solid gray;flex-grow: 1;}#sk-container-id-4 div.sk-label:hover label.sk-toggleable__label {background-color: #d4ebff;}#sk-container-id-4 div.sk-serial::before {content: \"\";position: absolute;border-left: 1px solid gray;box-sizing: border-box;top: 0;bottom: 0;left: 50%;z-index: 0;}#sk-container-id-4 div.sk-serial {display: flex;flex-direction: column;align-items: center;background-color: white;padding-right: 0.2em;padding-left: 0.2em;position: relative;}#sk-container-id-4 div.sk-item {position: relative;z-index: 1;}#sk-container-id-4 div.sk-parallel {display: flex;align-items: stretch;justify-content: center;background-color: white;position: relative;}#sk-container-id-4 div.sk-item::before, #sk-container-id-4 div.sk-parallel-item::before {content: \"\";position: absolute;border-left: 1px solid gray;box-sizing: border-box;top: 0;bottom: 0;left: 50%;z-index: -1;}#sk-container-id-4 div.sk-parallel-item {display: flex;flex-direction: column;z-index: 1;position: relative;background-color: white;}#sk-container-id-4 div.sk-parallel-item:first-child::after {align-self: flex-end;width: 50%;}#sk-container-id-4 div.sk-parallel-item:last-child::after {align-self: flex-start;width: 50%;}#sk-container-id-4 div.sk-parallel-item:only-child::after {width: 0;}#sk-container-id-4 div.sk-dashed-wrapped {border: 1px dashed gray;margin: 0 0.4em 0.5em 0.4em;box-sizing: border-box;padding-bottom: 0.4em;background-color: white;}#sk-container-id-4 div.sk-label label {font-family: monospace;font-weight: bold;display: inline-block;line-height: 1.2em;}#sk-container-id-4 div.sk-label-container {text-align: center;}#sk-container-id-4 div.sk-container {/* jupyter's `normalize.less` sets `[hidden] { display: none; }` but bootstrap.min.css set `[hidden] { display: none !important; }` so we also need the `!important` here to be able to override the default hidden behavior on the sphinx rendered scikit-learn.org. See: https://github.com/scikit-learn/scikit-learn/issues/21755 */display: inline-block !important;position: relative;}#sk-container-id-4 div.sk-text-repr-fallback {display: none;}</style><div id=\"sk-container-id-4\" class=\"sk-top-container\"><div class=\"sk-text-repr-fallback\"><pre>StandardScaler()</pre><b>In a Jupyter environment, please rerun this cell to show the HTML representation or trust the notebook. <br />On GitHub, the HTML representation is unable to render, please try loading this page with nbviewer.org.</b></div><div class=\"sk-container\" hidden><div class=\"sk-item\"><div class=\"sk-estimator sk-toggleable\"><input class=\"sk-toggleable__control sk-hidden--visually\" id=\"sk-estimator-id-4\" type=\"checkbox\" checked><label for=\"sk-estimator-id-4\" class=\"sk-toggleable__label sk-toggleable__label-arrow\">StandardScaler</label><div class=\"sk-toggleable__content\"><pre>StandardScaler()</pre></div></div></div></div></div>"
      ],
      "text/plain": [
       "StandardScaler()"
      ]
     },
     "execution_count": 76,
     "metadata": {},
     "output_type": "execute_result"
    }
   ],
   "source": [
    "scaler = StandardScaler()\n",
    "scaler.fit(X)\n"
   ]
  },
  {
   "cell_type": "code",
   "execution_count": 77,
   "id": "411c3157",
   "metadata": {},
   "outputs": [],
   "source": [
    "X = scaler.transform(X)"
   ]
  },
  {
   "cell_type": "code",
   "execution_count": 83,
   "id": "071c3138",
   "metadata": {},
   "outputs": [],
   "source": [
    "X_train, X_test, y_train, y_test = train_test_split(X, Y, test_size=0.2, random_state=13)"
   ]
  },
  {
   "cell_type": "code",
   "execution_count": 84,
   "id": "d24c790e",
   "metadata": {},
   "outputs": [],
   "source": [
    "from sklearn.linear_model import LinearRegression\n",
    "model = LinearRegression()"
   ]
  },
  {
   "cell_type": "code",
   "execution_count": 85,
   "id": "4c75a919",
   "metadata": {},
   "outputs": [
    {
     "data": {
      "text/html": [
       "<style>#sk-container-id-6 {color: black;background-color: white;}#sk-container-id-6 pre{padding: 0;}#sk-container-id-6 div.sk-toggleable {background-color: white;}#sk-container-id-6 label.sk-toggleable__label {cursor: pointer;display: block;width: 100%;margin-bottom: 0;padding: 0.3em;box-sizing: border-box;text-align: center;}#sk-container-id-6 label.sk-toggleable__label-arrow:before {content: \"▸\";float: left;margin-right: 0.25em;color: #696969;}#sk-container-id-6 label.sk-toggleable__label-arrow:hover:before {color: black;}#sk-container-id-6 div.sk-estimator:hover label.sk-toggleable__label-arrow:before {color: black;}#sk-container-id-6 div.sk-toggleable__content {max-height: 0;max-width: 0;overflow: hidden;text-align: left;background-color: #f0f8ff;}#sk-container-id-6 div.sk-toggleable__content pre {margin: 0.2em;color: black;border-radius: 0.25em;background-color: #f0f8ff;}#sk-container-id-6 input.sk-toggleable__control:checked~div.sk-toggleable__content {max-height: 200px;max-width: 100%;overflow: auto;}#sk-container-id-6 input.sk-toggleable__control:checked~label.sk-toggleable__label-arrow:before {content: \"▾\";}#sk-container-id-6 div.sk-estimator input.sk-toggleable__control:checked~label.sk-toggleable__label {background-color: #d4ebff;}#sk-container-id-6 div.sk-label input.sk-toggleable__control:checked~label.sk-toggleable__label {background-color: #d4ebff;}#sk-container-id-6 input.sk-hidden--visually {border: 0;clip: rect(1px 1px 1px 1px);clip: rect(1px, 1px, 1px, 1px);height: 1px;margin: -1px;overflow: hidden;padding: 0;position: absolute;width: 1px;}#sk-container-id-6 div.sk-estimator {font-family: monospace;background-color: #f0f8ff;border: 1px dotted black;border-radius: 0.25em;box-sizing: border-box;margin-bottom: 0.5em;}#sk-container-id-6 div.sk-estimator:hover {background-color: #d4ebff;}#sk-container-id-6 div.sk-parallel-item::after {content: \"\";width: 100%;border-bottom: 1px solid gray;flex-grow: 1;}#sk-container-id-6 div.sk-label:hover label.sk-toggleable__label {background-color: #d4ebff;}#sk-container-id-6 div.sk-serial::before {content: \"\";position: absolute;border-left: 1px solid gray;box-sizing: border-box;top: 0;bottom: 0;left: 50%;z-index: 0;}#sk-container-id-6 div.sk-serial {display: flex;flex-direction: column;align-items: center;background-color: white;padding-right: 0.2em;padding-left: 0.2em;position: relative;}#sk-container-id-6 div.sk-item {position: relative;z-index: 1;}#sk-container-id-6 div.sk-parallel {display: flex;align-items: stretch;justify-content: center;background-color: white;position: relative;}#sk-container-id-6 div.sk-item::before, #sk-container-id-6 div.sk-parallel-item::before {content: \"\";position: absolute;border-left: 1px solid gray;box-sizing: border-box;top: 0;bottom: 0;left: 50%;z-index: -1;}#sk-container-id-6 div.sk-parallel-item {display: flex;flex-direction: column;z-index: 1;position: relative;background-color: white;}#sk-container-id-6 div.sk-parallel-item:first-child::after {align-self: flex-end;width: 50%;}#sk-container-id-6 div.sk-parallel-item:last-child::after {align-self: flex-start;width: 50%;}#sk-container-id-6 div.sk-parallel-item:only-child::after {width: 0;}#sk-container-id-6 div.sk-dashed-wrapped {border: 1px dashed gray;margin: 0 0.4em 0.5em 0.4em;box-sizing: border-box;padding-bottom: 0.4em;background-color: white;}#sk-container-id-6 div.sk-label label {font-family: monospace;font-weight: bold;display: inline-block;line-height: 1.2em;}#sk-container-id-6 div.sk-label-container {text-align: center;}#sk-container-id-6 div.sk-container {/* jupyter's `normalize.less` sets `[hidden] { display: none; }` but bootstrap.min.css set `[hidden] { display: none !important; }` so we also need the `!important` here to be able to override the default hidden behavior on the sphinx rendered scikit-learn.org. See: https://github.com/scikit-learn/scikit-learn/issues/21755 */display: inline-block !important;position: relative;}#sk-container-id-6 div.sk-text-repr-fallback {display: none;}</style><div id=\"sk-container-id-6\" class=\"sk-top-container\"><div class=\"sk-text-repr-fallback\"><pre>LinearRegression()</pre><b>In a Jupyter environment, please rerun this cell to show the HTML representation or trust the notebook. <br />On GitHub, the HTML representation is unable to render, please try loading this page with nbviewer.org.</b></div><div class=\"sk-container\" hidden><div class=\"sk-item\"><div class=\"sk-estimator sk-toggleable\"><input class=\"sk-toggleable__control sk-hidden--visually\" id=\"sk-estimator-id-6\" type=\"checkbox\" checked><label for=\"sk-estimator-id-6\" class=\"sk-toggleable__label sk-toggleable__label-arrow\">LinearRegression</label><div class=\"sk-toggleable__content\"><pre>LinearRegression()</pre></div></div></div></div></div>"
      ],
      "text/plain": [
       "LinearRegression()"
      ]
     },
     "execution_count": 85,
     "metadata": {},
     "output_type": "execute_result"
    }
   ],
   "source": [
    "model.fit(X_train, y_train)"
   ]
  },
  {
   "cell_type": "code",
   "execution_count": 86,
   "id": "3a4a1312",
   "metadata": {},
   "outputs": [
    {
     "data": {
      "text/plain": [
       "0.3241591921664513"
      ]
     },
     "execution_count": 86,
     "metadata": {},
     "output_type": "execute_result"
    }
   ],
   "source": [
    "model.score(X_test, y_test)"
   ]
  },
  {
   "cell_type": "code",
   "execution_count": 107,
   "id": "fabda029",
   "metadata": {},
   "outputs": [
    {
     "name": "stderr",
     "output_type": "stream",
     "text": [
      "/Library/Frameworks/Python.framework/Versions/3.9/lib/python3.9/site-packages/sklearn/base.py:450: UserWarning: X does not have valid feature names, but StandardScaler was fitted with feature names\n",
      "  warnings.warn(\n"
     ]
    }
   ],
   "source": [
    "test_X = scaler.transform(np.array([92, 40, 23]).reshape(1,-1))"
   ]
  },
  {
   "cell_type": "code",
   "execution_count": 108,
   "id": "88eaf65e",
   "metadata": {},
   "outputs": [
    {
     "data": {
      "text/plain": [
       "10.635587264410928"
      ]
     },
     "execution_count": 108,
     "metadata": {},
     "output_type": "execute_result"
    }
   ],
   "source": [
    "abs(model.predict(test_X)[0])"
   ]
  },
  {
   "cell_type": "code",
   "execution_count": 110,
   "id": "16d58476",
   "metadata": {},
   "outputs": [
    {
     "ename": "TypeError",
     "evalue": "__init__() missing 1 required positional argument: 'param_grid'",
     "output_type": "error",
     "traceback": [
      "\u001b[0;31m---------------------------------------------------------------------------\u001b[0m",
      "\u001b[0;31mTypeError\u001b[0m                                 Traceback (most recent call last)",
      "Cell \u001b[0;32mIn [110], line 4\u001b[0m\n\u001b[1;32m      2\u001b[0m \u001b[38;5;28;01mfrom\u001b[39;00m \u001b[38;5;21;01msklearn\u001b[39;00m\u001b[38;5;21;01m.\u001b[39;00m\u001b[38;5;21;01mmodel_selection\u001b[39;00m \u001b[38;5;28;01mimport\u001b[39;00m GridSearchCV\n\u001b[1;32m      3\u001b[0m kfold \u001b[38;5;241m=\u001b[39m KFold(n_splits\u001b[38;5;241m=\u001b[39m\u001b[38;5;241m5\u001b[39m, random_state\u001b[38;5;241m=\u001b[39m\u001b[38;5;241m3\u001b[39m,shuffle\u001b[38;5;241m=\u001b[39m\u001b[38;5;28;01mTrue\u001b[39;00m)\n\u001b[0;32m----> 4\u001b[0m grid_search \u001b[38;5;241m=\u001b[39m \u001b[43mGridSearchCV\u001b[49m\u001b[43m(\u001b[49m\u001b[43mestimator\u001b[49m\u001b[38;5;241;43m=\u001b[39;49m\u001b[43mmodel\u001b[49m\u001b[43m,\u001b[49m\u001b[43m \u001b[49m\u001b[43mcv\u001b[49m\u001b[38;5;241;43m=\u001b[39;49m\u001b[43mkfold\u001b[49m\u001b[43m,\u001b[49m\u001b[43m \u001b[49m\u001b[43mscoring\u001b[49m\u001b[38;5;241;43m=\u001b[39;49m\u001b[38;5;124;43m'\u001b[39;49m\u001b[38;5;124;43maccuracy\u001b[39;49m\u001b[38;5;124;43m'\u001b[39;49m\u001b[43m)\u001b[49m\n",
      "\u001b[0;31mTypeError\u001b[0m: __init__() missing 1 required positional argument: 'param_grid'"
     ]
    }
   ],
   "source": [
    "from sklearn.model_selection import KFold\n",
    "from sklearn.model_selection import GridSearchCV\n",
    "kfold = KFold(n_splits=5, random_state=3,shuffle=True)\n",
    "grid_search = GridSearchCV(estimator=model, param_grid=grid, cv=kfold, scoring='accuracy')"
   ]
  },
  {
   "cell_type": "code",
   "execution_count": 116,
   "id": "a2df9ccc",
   "metadata": {},
   "outputs": [],
   "source": [
    "df2 = pd.read_csv('final_data.csv')\n",
    "df2['pct_black_loans'] = (df2['Black_All_loans']/df2['Total_All_loans'])*100\n",
    "df2 = df2[['pct_homeownership_black_alone','pct_black_loans','pct_bach_degree_or_higher_black_alone']]\n",
    "clean_data = df2.dropna()"
   ]
  },
  {
   "cell_type": "code",
   "execution_count": 119,
   "id": "1846df6a",
   "metadata": {},
   "outputs": [],
   "source": [
    "clean_data.to_csv('clean_data_final_presentation.csv')"
   ]
  },
  {
   "cell_type": "code",
   "execution_count": 124,
   "id": "8415b7c4",
   "metadata": {},
   "outputs": [
    {
     "data": {
      "text/html": [
       "<div>\n",
       "<style scoped>\n",
       "    .dataframe tbody tr th:only-of-type {\n",
       "        vertical-align: middle;\n",
       "    }\n",
       "\n",
       "    .dataframe tbody tr th {\n",
       "        vertical-align: top;\n",
       "    }\n",
       "\n",
       "    .dataframe thead th {\n",
       "        text-align: right;\n",
       "    }\n",
       "</style>\n",
       "<table border=\"1\" class=\"dataframe\">\n",
       "  <thead>\n",
       "    <tr style=\"text-align: right;\">\n",
       "      <th></th>\n",
       "      <th>pct_homeownership_black_alone</th>\n",
       "      <th>pct_black_loans</th>\n",
       "      <th>pct_bach_degree_or_higher_black_alone</th>\n",
       "    </tr>\n",
       "  </thead>\n",
       "  <tbody>\n",
       "    <tr>\n",
       "      <th>0</th>\n",
       "      <td>99.5</td>\n",
       "      <td>0.806452</td>\n",
       "      <td>28.3</td>\n",
       "    </tr>\n",
       "    <tr>\n",
       "      <th>1</th>\n",
       "      <td>42.0</td>\n",
       "      <td>NaN</td>\n",
       "      <td>0.0</td>\n",
       "    </tr>\n",
       "    <tr>\n",
       "      <th>2</th>\n",
       "      <td>49.8</td>\n",
       "      <td>19.559976</td>\n",
       "      <td>32.6</td>\n",
       "    </tr>\n",
       "    <tr>\n",
       "      <th>3</th>\n",
       "      <td>98.0</td>\n",
       "      <td>NaN</td>\n",
       "      <td>54.5</td>\n",
       "    </tr>\n",
       "    <tr>\n",
       "      <th>4</th>\n",
       "      <td>64.5</td>\n",
       "      <td>1.704545</td>\n",
       "      <td>15.8</td>\n",
       "    </tr>\n",
       "    <tr>\n",
       "      <th>...</th>\n",
       "      <td>...</td>\n",
       "      <td>...</td>\n",
       "      <td>...</td>\n",
       "    </tr>\n",
       "    <tr>\n",
       "      <th>623</th>\n",
       "      <td>NaN</td>\n",
       "      <td>NaN</td>\n",
       "      <td>0.0</td>\n",
       "    </tr>\n",
       "    <tr>\n",
       "      <th>624</th>\n",
       "      <td>NaN</td>\n",
       "      <td>NaN</td>\n",
       "      <td>NaN</td>\n",
       "    </tr>\n",
       "    <tr>\n",
       "      <th>625</th>\n",
       "      <td>NaN</td>\n",
       "      <td>NaN</td>\n",
       "      <td>NaN</td>\n",
       "    </tr>\n",
       "    <tr>\n",
       "      <th>626</th>\n",
       "      <td>NaN</td>\n",
       "      <td>NaN</td>\n",
       "      <td>NaN</td>\n",
       "    </tr>\n",
       "    <tr>\n",
       "      <th>627</th>\n",
       "      <td>0.1</td>\n",
       "      <td>26.865672</td>\n",
       "      <td>19.1</td>\n",
       "    </tr>\n",
       "  </tbody>\n",
       "</table>\n",
       "<p>628 rows × 3 columns</p>\n",
       "</div>"
      ],
      "text/plain": [
       "     pct_homeownership_black_alone  pct_black_loans  \\\n",
       "0                             99.5         0.806452   \n",
       "1                             42.0              NaN   \n",
       "2                             49.8        19.559976   \n",
       "3                             98.0              NaN   \n",
       "4                             64.5         1.704545   \n",
       "..                             ...              ...   \n",
       "623                            NaN              NaN   \n",
       "624                            NaN              NaN   \n",
       "625                            NaN              NaN   \n",
       "626                            NaN              NaN   \n",
       "627                            0.1        26.865672   \n",
       "\n",
       "     pct_bach_degree_or_higher_black_alone  \n",
       "0                                     28.3  \n",
       "1                                      0.0  \n",
       "2                                     32.6  \n",
       "3                                     54.5  \n",
       "4                                     15.8  \n",
       "..                                     ...  \n",
       "623                                    0.0  \n",
       "624                                    NaN  \n",
       "625                                    NaN  \n",
       "626                                    NaN  \n",
       "627                                   19.1  \n",
       "\n",
       "[628 rows x 3 columns]"
      ]
     },
     "execution_count": 124,
     "metadata": {},
     "output_type": "execute_result"
    }
   ],
   "source": []
  },
  {
   "cell_type": "code",
   "execution_count": 145,
   "id": "8858bf55",
   "metadata": {},
   "outputs": [],
   "source": [
    "df = pd.read_csv('final_data.csv')"
   ]
  },
  {
   "cell_type": "code",
   "execution_count": 146,
   "id": "ecae991c",
   "metadata": {},
   "outputs": [],
   "source": [
    "c = df.corr().abs()"
   ]
  },
  {
   "cell_type": "code",
   "execution_count": 147,
   "id": "074cfa9e",
   "metadata": {},
   "outputs": [],
   "source": [
    "s = c.unstack()\n",
    "so = s.sort_values(kind=\"quicksort\")"
   ]
  },
  {
   "cell_type": "code",
   "execution_count": 157,
   "id": "73b72fc1",
   "metadata": {},
   "outputs": [],
   "source": [
    "so_black = so.filter(like='pct_below_poverty_black_alone', axis=0)"
   ]
  },
  {
   "cell_type": "code",
   "execution_count": 154,
   "id": "d2db392b",
   "metadata": {},
   "outputs": [
    {
     "data": {
      "text/plain": [
       "pop_below_poverty_black                            pct_change_16_to_21_pct_below_poverty_black_alone    0.394467\n",
       "pct_change_16_to_21_pct_below_poverty_black_alone  pop_below_poverty_black                              0.394467\n",
       "pct_below_poverty_black_alone                      pct_homeownership_black_alone                        0.400342\n",
       "pct_homeownership_black_alone                      pct_below_poverty_black_alone                        0.400342\n",
       "calc_mhv_to_mhi_black_Chg                          pct_change_16_to_21_pct_below_poverty_black_alone    0.400870\n",
       "pct_change_16_to_21_pct_below_poverty_black_alone  calc_mhv_to_mhi_black_Chg                            0.400870\n",
       "pct_below_poverty_black_alone                      pop_below_poverty_black_Chg                          0.488093\n",
       "pop_below_poverty_black_Chg                        pct_below_poverty_black_alone                        0.488093\n",
       "MentalHlthSpecialist                               pct_below_poverty_black_alone                        0.489092\n",
       "pct_below_poverty_black_alone                      MentalHlthSpecialist                                 0.489092\n",
       "calc_houseburden_renter_salary_gap_black           pct_below_poverty_black_alone                        0.528812\n",
       "pct_below_poverty_black_alone                      calc_houseburden_renter_salary_gap_black             0.528812\n",
       "                                                   median_hhd_inc_black                                 0.545081\n",
       "median_hhd_inc_black                               pct_below_poverty_black_alone                        0.545081\n",
       "pct_change_16_to_21_pct_below_poverty_black_alone  pct_below_poverty_black_alone                        0.642960\n",
       "pct_below_poverty_black_alone                      pct_change_16_to_21_pct_below_poverty_black_alone    0.642960\n",
       "pct_change_16_to_21_pct_below_poverty_black_alone  pop_below_poverty_black_Chg                          0.686448\n",
       "pop_below_poverty_black_Chg                        pct_change_16_to_21_pct_below_poverty_black_alone    0.686448\n",
       "pop_below_poverty_black                            pct_below_poverty_black_alone                        0.848171\n",
       "pct_below_poverty_black_alone                      pop_below_poverty_black                              0.848171\n",
       "pct_change_16_to_21_pct_below_poverty_black_alone  pct_change_16_to_21_pct_below_poverty_black_alone    1.000000\n",
       "pct_below_poverty_black_alone                      pct_below_poverty_black_alone                        1.000000\n",
       "dtype: float64"
      ]
     },
     "execution_count": 154,
     "metadata": {},
     "output_type": "execute_result"
    }
   ],
   "source": [
    "so_black[650:]"
   ]
  },
  {
   "cell_type": "code",
   "execution_count": 158,
   "id": "197240d8",
   "metadata": {},
   "outputs": [
    {
     "data": {
      "text/plain": [
       "pct_change_16_to_21_pct_below_poverty_black_alone  MentalHlthSpecialist                                 0.160639\n",
       "MentalHlthSpecialist                               pct_change_16_to_21_pct_below_poverty_black_alone    0.160639\n",
       "                                                   pct_below_poverty_black_alone                        0.489092\n",
       "pct_below_poverty_black_alone                      MentalHlthSpecialist                                 0.489092\n",
       "dtype: float64"
      ]
     },
     "execution_count": 158,
     "metadata": {},
     "output_type": "execute_result"
    }
   ],
   "source": [
    "so_black.filter(like='MentalHlthSpecialist',axis=0)"
   ]
  },
  {
   "cell_type": "code",
   "execution_count": 164,
   "id": "e5f1ec54",
   "metadata": {},
   "outputs": [],
   "source": [
    "c_black = c.filter(like='pct_below_poverty_black_alone', axis=0).filter(like='MentalHlthSpecialist', axis=1)"
   ]
  },
  {
   "cell_type": "code",
   "execution_count": 174,
   "id": "86210f60",
   "metadata": {},
   "outputs": [
    {
     "data": {
      "text/html": [
       "<div>\n",
       "<style scoped>\n",
       "    .dataframe tbody tr th:only-of-type {\n",
       "        vertical-align: middle;\n",
       "    }\n",
       "\n",
       "    .dataframe tbody tr th {\n",
       "        vertical-align: top;\n",
       "    }\n",
       "\n",
       "    .dataframe thead th {\n",
       "        text-align: right;\n",
       "    }\n",
       "</style>\n",
       "<table border=\"1\" class=\"dataframe\">\n",
       "  <thead>\n",
       "    <tr style=\"text-align: right;\">\n",
       "      <th></th>\n",
       "      <th>MentalHlthSpecialist</th>\n",
       "    </tr>\n",
       "  </thead>\n",
       "  <tbody>\n",
       "    <tr>\n",
       "      <th>pct_below_poverty_black_alone</th>\n",
       "      <td>0.489092</td>\n",
       "    </tr>\n",
       "  </tbody>\n",
       "</table>\n",
       "</div>"
      ],
      "text/plain": [
       "                               MentalHlthSpecialist\n",
       "pct_below_poverty_black_alone              0.489092"
      ]
     },
     "execution_count": 174,
     "metadata": {},
     "output_type": "execute_result"
    }
   ],
   "source": [
    "c_black.head(1)"
   ]
  },
  {
   "cell_type": "code",
   "execution_count": 179,
   "id": "69ca1234",
   "metadata": {},
   "outputs": [
    {
     "data": {
      "text/html": [
       "<div>\n",
       "<style scoped>\n",
       "    .dataframe tbody tr th:only-of-type {\n",
       "        vertical-align: middle;\n",
       "    }\n",
       "\n",
       "    .dataframe tbody tr th {\n",
       "        vertical-align: top;\n",
       "    }\n",
       "\n",
       "    .dataframe thead th {\n",
       "        text-align: right;\n",
       "    }\n",
       "</style>\n",
       "<table border=\"1\" class=\"dataframe\">\n",
       "  <thead>\n",
       "    <tr style=\"text-align: right;\">\n",
       "      <th></th>\n",
       "      <th>zip_code</th>\n",
       "      <th>pct_black_alone</th>\n",
       "      <th>pop_black_alone</th>\n",
       "      <th>pct_below_poverty</th>\n",
       "      <th>pct_below_poverty_white_alone</th>\n",
       "      <th>pct_below_poverty_black_alone</th>\n",
       "      <th>pct_below_poverty_asian_alone</th>\n",
       "      <th>pct_below_poverty_hispanic</th>\n",
       "      <th>pct_change_16_to_21_pct_below_poverty_black_alone</th>\n",
       "      <th>pct_homeownership</th>\n",
       "      <th>...</th>\n",
       "      <th>houseburden_over30pct_inc_renters_Chg</th>\n",
       "      <th>houseburden_over30pct_inc_all_Chg</th>\n",
       "      <th>pop_below_poverty_all_Chg</th>\n",
       "      <th>pop_below_poverty_white_Chg</th>\n",
       "      <th>pop_below_poverty_black_Chg</th>\n",
       "      <th>calc_mhv_to_mhi_all_Chg</th>\n",
       "      <th>calc_mhv_to_mhi_white_Chg</th>\n",
       "      <th>calc_mhv_to_mhi_black_Chg</th>\n",
       "      <th>calc_houseburden_renter_salary_need_PctChg</th>\n",
       "      <th>lila_res</th>\n",
       "    </tr>\n",
       "  </thead>\n",
       "  <tbody>\n",
       "    <tr>\n",
       "      <th>count</th>\n",
       "      <td>628.000000</td>\n",
       "      <td>620.000000</td>\n",
       "      <td>625.000000</td>\n",
       "      <td>615.000000</td>\n",
       "      <td>615.000000</td>\n",
       "      <td>468.000000</td>\n",
       "      <td>363.000000</td>\n",
       "      <td>509.000000</td>\n",
       "      <td>419.000000</td>\n",
       "      <td>614.000000</td>\n",
       "      <td>...</td>\n",
       "      <td>598.000000</td>\n",
       "      <td>615.000000</td>\n",
       "      <td>616.000000</td>\n",
       "      <td>616.000000</td>\n",
       "      <td>426.000000</td>\n",
       "      <td>573.000000</td>\n",
       "      <td>572.000000</td>\n",
       "      <td>209.000000</td>\n",
       "      <td>521.000000</td>\n",
       "      <td>627.000000</td>\n",
       "    </tr>\n",
       "    <tr>\n",
       "      <th>mean</th>\n",
       "      <td>37787.472930</td>\n",
       "      <td>9.680323</td>\n",
       "      <td>1812.182400</td>\n",
       "      <td>15.312846</td>\n",
       "      <td>14.241789</td>\n",
       "      <td>23.372009</td>\n",
       "      <td>10.949036</td>\n",
       "      <td>21.535363</td>\n",
       "      <td>-2.311456</td>\n",
       "      <td>73.938762</td>\n",
       "      <td>...</td>\n",
       "      <td>-0.050856</td>\n",
       "      <td>-0.049974</td>\n",
       "      <td>-0.040175</td>\n",
       "      <td>-0.036914</td>\n",
       "      <td>-0.024958</td>\n",
       "      <td>0.043298</td>\n",
       "      <td>0.061501</td>\n",
       "      <td>0.319240</td>\n",
       "      <td>0.157647</td>\n",
       "      <td>0.141848</td>\n",
       "    </tr>\n",
       "    <tr>\n",
       "      <th>std</th>\n",
       "      <td>523.915382</td>\n",
       "      <td>17.710725</td>\n",
       "      <td>5189.584783</td>\n",
       "      <td>9.736537</td>\n",
       "      <td>9.607350</td>\n",
       "      <td>25.954068</td>\n",
       "      <td>23.132346</td>\n",
       "      <td>25.915446</td>\n",
       "      <td>28.851178</td>\n",
       "      <td>16.434306</td>\n",
       "      <td>...</td>\n",
       "      <td>0.193759</td>\n",
       "      <td>0.100721</td>\n",
       "      <td>0.108885</td>\n",
       "      <td>0.113956</td>\n",
       "      <td>0.290146</td>\n",
       "      <td>1.137943</td>\n",
       "      <td>1.070965</td>\n",
       "      <td>3.570800</td>\n",
       "      <td>0.213909</td>\n",
       "      <td>0.267753</td>\n",
       "    </tr>\n",
       "    <tr>\n",
       "      <th>min</th>\n",
       "      <td>37010.000000</td>\n",
       "      <td>0.000000</td>\n",
       "      <td>0.000000</td>\n",
       "      <td>0.000000</td>\n",
       "      <td>0.000000</td>\n",
       "      <td>0.000000</td>\n",
       "      <td>0.000000</td>\n",
       "      <td>0.000000</td>\n",
       "      <td>-100.000000</td>\n",
       "      <td>0.000000</td>\n",
       "      <td>...</td>\n",
       "      <td>-1.000000</td>\n",
       "      <td>-0.781250</td>\n",
       "      <td>-0.941176</td>\n",
       "      <td>-1.000000</td>\n",
       "      <td>-1.000000</td>\n",
       "      <td>-21.635014</td>\n",
       "      <td>-19.202159</td>\n",
       "      <td>-20.021993</td>\n",
       "      <td>-0.425239</td>\n",
       "      <td>0.000000</td>\n",
       "    </tr>\n",
       "    <tr>\n",
       "      <th>25%</th>\n",
       "      <td>37327.750000</td>\n",
       "      <td>0.300000</td>\n",
       "      <td>6.000000</td>\n",
       "      <td>8.850000</td>\n",
       "      <td>8.000000</td>\n",
       "      <td>1.725000</td>\n",
       "      <td>0.000000</td>\n",
       "      <td>0.000000</td>\n",
       "      <td>-11.950000</td>\n",
       "      <td>67.725000</td>\n",
       "      <td>...</td>\n",
       "      <td>-0.128799</td>\n",
       "      <td>-0.094512</td>\n",
       "      <td>-0.071568</td>\n",
       "      <td>-0.069371</td>\n",
       "      <td>-0.149237</td>\n",
       "      <td>-0.259230</td>\n",
       "      <td>-0.257793</td>\n",
       "      <td>-0.550992</td>\n",
       "      <td>0.049488</td>\n",
       "      <td>0.000000</td>\n",
       "    </tr>\n",
       "    <tr>\n",
       "      <th>50%</th>\n",
       "      <td>37812.000000</td>\n",
       "      <td>2.300000</td>\n",
       "      <td>106.000000</td>\n",
       "      <td>14.300000</td>\n",
       "      <td>12.900000</td>\n",
       "      <td>15.800000</td>\n",
       "      <td>0.000000</td>\n",
       "      <td>14.300000</td>\n",
       "      <td>-1.800000</td>\n",
       "      <td>77.600000</td>\n",
       "      <td>...</td>\n",
       "      <td>-0.032409</td>\n",
       "      <td>-0.046460</td>\n",
       "      <td>-0.030485</td>\n",
       "      <td>-0.027153</td>\n",
       "      <td>-0.030699</td>\n",
       "      <td>0.066130</td>\n",
       "      <td>0.074925</td>\n",
       "      <td>0.220312</td>\n",
       "      <td>0.135618</td>\n",
       "      <td>0.000000</td>\n",
       "    </tr>\n",
       "    <tr>\n",
       "      <th>75%</th>\n",
       "      <td>38230.250000</td>\n",
       "      <td>9.425000</td>\n",
       "      <td>843.000000</td>\n",
       "      <td>19.300000</td>\n",
       "      <td>18.100000</td>\n",
       "      <td>34.500000</td>\n",
       "      <td>10.100000</td>\n",
       "      <td>31.500000</td>\n",
       "      <td>6.000000</td>\n",
       "      <td>84.000000</td>\n",
       "      <td>...</td>\n",
       "      <td>0.042632</td>\n",
       "      <td>-0.000154</td>\n",
       "      <td>0.006312</td>\n",
       "      <td>0.009342</td>\n",
       "      <td>0.075113</td>\n",
       "      <td>0.428315</td>\n",
       "      <td>0.418337</td>\n",
       "      <td>0.941797</td>\n",
       "      <td>0.238636</td>\n",
       "      <td>0.152553</td>\n",
       "    </tr>\n",
       "    <tr>\n",
       "      <th>max</th>\n",
       "      <td>42223.000000</td>\n",
       "      <td>96.000000</td>\n",
       "      <td>43011.000000</td>\n",
       "      <td>77.800000</td>\n",
       "      <td>81.900000</td>\n",
       "      <td>100.000000</td>\n",
       "      <td>100.000000</td>\n",
       "      <td>100.000000</td>\n",
       "      <td>100.000000</td>\n",
       "      <td>100.000000</td>\n",
       "      <td>...</td>\n",
       "      <td>0.594118</td>\n",
       "      <td>0.647450</td>\n",
       "      <td>0.579710</td>\n",
       "      <td>0.579710</td>\n",
       "      <td>1.000000</td>\n",
       "      <td>4.949605</td>\n",
       "      <td>6.371128</td>\n",
       "      <td>39.793024</td>\n",
       "      <td>1.974359</td>\n",
       "      <td>1.000000</td>\n",
       "    </tr>\n",
       "  </tbody>\n",
       "</table>\n",
       "<p>8 rows × 169 columns</p>\n",
       "</div>"
      ],
      "text/plain": [
       "           zip_code  pct_black_alone  pop_black_alone  pct_below_poverty  \\\n",
       "count    628.000000       620.000000       625.000000         615.000000   \n",
       "mean   37787.472930         9.680323      1812.182400          15.312846   \n",
       "std      523.915382        17.710725      5189.584783           9.736537   \n",
       "min    37010.000000         0.000000         0.000000           0.000000   \n",
       "25%    37327.750000         0.300000         6.000000           8.850000   \n",
       "50%    37812.000000         2.300000       106.000000          14.300000   \n",
       "75%    38230.250000         9.425000       843.000000          19.300000   \n",
       "max    42223.000000        96.000000     43011.000000          77.800000   \n",
       "\n",
       "       pct_below_poverty_white_alone  pct_below_poverty_black_alone  \\\n",
       "count                     615.000000                     468.000000   \n",
       "mean                       14.241789                      23.372009   \n",
       "std                         9.607350                      25.954068   \n",
       "min                         0.000000                       0.000000   \n",
       "25%                         8.000000                       1.725000   \n",
       "50%                        12.900000                      15.800000   \n",
       "75%                        18.100000                      34.500000   \n",
       "max                        81.900000                     100.000000   \n",
       "\n",
       "       pct_below_poverty_asian_alone  pct_below_poverty_hispanic  \\\n",
       "count                     363.000000                  509.000000   \n",
       "mean                       10.949036                   21.535363   \n",
       "std                        23.132346                   25.915446   \n",
       "min                         0.000000                    0.000000   \n",
       "25%                         0.000000                    0.000000   \n",
       "50%                         0.000000                   14.300000   \n",
       "75%                        10.100000                   31.500000   \n",
       "max                       100.000000                  100.000000   \n",
       "\n",
       "       pct_change_16_to_21_pct_below_poverty_black_alone  pct_homeownership  \\\n",
       "count                                         419.000000         614.000000   \n",
       "mean                                           -2.311456          73.938762   \n",
       "std                                            28.851178          16.434306   \n",
       "min                                          -100.000000           0.000000   \n",
       "25%                                           -11.950000          67.725000   \n",
       "50%                                            -1.800000          77.600000   \n",
       "75%                                             6.000000          84.000000   \n",
       "max                                           100.000000         100.000000   \n",
       "\n",
       "       ...  houseburden_over30pct_inc_renters_Chg  \\\n",
       "count  ...                             598.000000   \n",
       "mean   ...                              -0.050856   \n",
       "std    ...                               0.193759   \n",
       "min    ...                              -1.000000   \n",
       "25%    ...                              -0.128799   \n",
       "50%    ...                              -0.032409   \n",
       "75%    ...                               0.042632   \n",
       "max    ...                               0.594118   \n",
       "\n",
       "       houseburden_over30pct_inc_all_Chg  pop_below_poverty_all_Chg  \\\n",
       "count                         615.000000                 616.000000   \n",
       "mean                           -0.049974                  -0.040175   \n",
       "std                             0.100721                   0.108885   \n",
       "min                            -0.781250                  -0.941176   \n",
       "25%                            -0.094512                  -0.071568   \n",
       "50%                            -0.046460                  -0.030485   \n",
       "75%                            -0.000154                   0.006312   \n",
       "max                             0.647450                   0.579710   \n",
       "\n",
       "       pop_below_poverty_white_Chg  pop_below_poverty_black_Chg  \\\n",
       "count                   616.000000                   426.000000   \n",
       "mean                     -0.036914                    -0.024958   \n",
       "std                       0.113956                     0.290146   \n",
       "min                      -1.000000                    -1.000000   \n",
       "25%                      -0.069371                    -0.149237   \n",
       "50%                      -0.027153                    -0.030699   \n",
       "75%                       0.009342                     0.075113   \n",
       "max                       0.579710                     1.000000   \n",
       "\n",
       "       calc_mhv_to_mhi_all_Chg  calc_mhv_to_mhi_white_Chg  \\\n",
       "count               573.000000                 572.000000   \n",
       "mean                  0.043298                   0.061501   \n",
       "std                   1.137943                   1.070965   \n",
       "min                 -21.635014                 -19.202159   \n",
       "25%                  -0.259230                  -0.257793   \n",
       "50%                   0.066130                   0.074925   \n",
       "75%                   0.428315                   0.418337   \n",
       "max                   4.949605                   6.371128   \n",
       "\n",
       "       calc_mhv_to_mhi_black_Chg  calc_houseburden_renter_salary_need_PctChg  \\\n",
       "count                 209.000000                                  521.000000   \n",
       "mean                    0.319240                                    0.157647   \n",
       "std                     3.570800                                    0.213909   \n",
       "min                   -20.021993                                   -0.425239   \n",
       "25%                    -0.550992                                    0.049488   \n",
       "50%                     0.220312                                    0.135618   \n",
       "75%                     0.941797                                    0.238636   \n",
       "max                    39.793024                                    1.974359   \n",
       "\n",
       "         lila_res  \n",
       "count  627.000000  \n",
       "mean     0.141848  \n",
       "std      0.267753  \n",
       "min      0.000000  \n",
       "25%      0.000000  \n",
       "50%      0.000000  \n",
       "75%      0.152553  \n",
       "max      1.000000  \n",
       "\n",
       "[8 rows x 169 columns]"
      ]
     },
     "execution_count": 179,
     "metadata": {},
     "output_type": "execute_result"
    }
   ],
   "source": [
    "df.describe()"
   ]
  },
  {
   "cell_type": "code",
   "execution_count": null,
   "id": "429a558d",
   "metadata": {},
   "outputs": [],
   "source": []
  }
 ],
 "metadata": {
  "kernelspec": {
   "display_name": "Python 3 (ipykernel)",
   "language": "python",
   "name": "python3"
  },
  "language_info": {
   "codemirror_mode": {
    "name": "ipython",
    "version": 3
   },
   "file_extension": ".py",
   "mimetype": "text/x-python",
   "name": "python",
   "nbconvert_exporter": "python",
   "pygments_lexer": "ipython3",
   "version": "3.9.13"
  }
 },
 "nbformat": 4,
 "nbformat_minor": 5
}

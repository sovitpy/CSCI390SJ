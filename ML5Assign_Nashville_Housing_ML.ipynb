{
 "cells": [
  {
   "cell_type": "markdown",
   "metadata": {
    "id": "N8ZTVuOl1_Rf"
   },
   "source": [
    "## ML5Assign: Nashville Housing - Machine Learning \n",
    "\n"
   ]
  },
  {
   "cell_type": "code",
   "execution_count": 1,
   "metadata": {
    "colab": {
     "base_uri": "https://localhost:8080/"
    },
    "executionInfo": {
     "elapsed": 6050,
     "status": "ok",
     "timestamp": 1633043534538,
     "user": {
      "displayName": "Glenn Acree",
      "photoUrl": "https://lh3.googleusercontent.com/a/default-user=s64",
      "userId": "12083279749904406048"
     },
     "user_tz": 300
    },
    "id": "rDbl4parLQ-k",
    "outputId": "2f7f375e-6266-4fcd-80aa-43ee661677cc"
   },
   "outputs": [
    {
     "name": "stdout",
     "output_type": "stream",
     "text": [
      "Cloning into 'NashvilleHousing'...\n",
      "remote: Enumerating objects: 9, done.\u001b[K\n",
      "remote: Counting objects: 100% (9/9), done.\u001b[K\n",
      "remote: Compressing objects: 100% (7/7), done.\u001b[K\n",
      "remote: Total 9 (delta 2), reused 0 (delta 0), pack-reused 0\u001b[K\n",
      "Receiving objects: 100% (9/9), 7.58 MiB | 3.38 MiB/s, done.\n",
      "Resolving deltas: 100% (2/2), done.\n"
     ]
    }
   ],
   "source": [
    "! git clone https://github.com/gacree/NashvilleHousing.git"
   ]
  },
  {
   "cell_type": "markdown",
   "metadata": {
    "id": "OiaBsoGa1_Rm"
   },
   "source": [
    "Import packages, read data into dataframes, reassign column names\n",
    "\n"
   ]
  },
  {
   "cell_type": "code",
   "execution_count": 2,
   "metadata": {
    "executionInfo": {
     "elapsed": 457,
     "status": "ok",
     "timestamp": 1633043539395,
     "user": {
      "displayName": "Glenn Acree",
      "photoUrl": "https://lh3.googleusercontent.com/a/default-user=s64",
      "userId": "12083279749904406048"
     },
     "user_tz": 300
    },
    "id": "ONUVb8eN1_Rm",
    "scrolled": false
   },
   "outputs": [],
   "source": [
    "#import the pandas package for data analytics.\n",
    "import pandas as pd\n",
    "\n",
    "# Read the data files into pandas dataframes.\n",
    "# Notice that we must indicate the full path of the data file.\n",
    "houses_2017 = pd.read_csv('NashvilleHousing/2017SINGLEFAMILYSF.txt')\n",
    "\n",
    "# Alter the column names in each of the new dataframes.\n",
    "houses_2017.columns = ['APN', 'DistrictCode', 'CouncilDistrict', 'AddressFullAddress',\n",
    "       'AddressCity', 'AddressPostalCode', 'LAND', 'IMPR', 'TOTALAPPR',\n",
    "       'TOTALASSD', 'FinishedArea']"
   ]
  },
  {
   "cell_type": "markdown",
   "metadata": {
    "id": "I35Lx5ob4gIt"
   },
   "source": [
    "### Create a new column 'CityNum' that will identify each 'AddressCity' with an integer value from 0-15."
   ]
  },
  {
   "cell_type": "code",
   "execution_count": 3,
   "metadata": {
    "colab": {
     "base_uri": "https://localhost:8080/"
    },
    "executionInfo": {
     "elapsed": 160,
     "status": "ok",
     "timestamp": 1633043550137,
     "user": {
      "displayName": "Glenn Acree",
      "photoUrl": "https://lh3.googleusercontent.com/a/default-user=s64",
      "userId": "12083279749904406048"
     },
     "user_tz": 300
    },
    "id": "PQWIznSuTO-0",
    "outputId": "d141363b-16b8-4eff-c044-0195920cef7a"
   },
   "outputs": [
    {
     "data": {
      "text/plain": [
       "array(['NASHVILLE', 'GOODLETTSVILLE', 'JOELTON', 'WHITES CREEK',\n",
       "       'MADISON', 'OLD HICKORY', 'ASHLAND CITY', 'HERMITAGE', 'PEGRAM',\n",
       "       'MOUNT JULIET', 'FRANKLIN', 'ANTIOCH', 'BELLEVUE', 'BRENTWOOD',\n",
       "       'LAVERGNE', 'NOLENSVILLE'], dtype=object)"
      ]
     },
     "execution_count": 3,
     "metadata": {},
     "output_type": "execute_result"
    }
   ],
   "source": [
    "# List the unique AddressCity values\n",
    "# Note there are 16 of them.\n",
    "houses_2017['AddressCity'].unique()"
   ]
  },
  {
   "cell_type": "code",
   "execution_count": 6,
   "metadata": {
    "colab": {
     "base_uri": "https://localhost:8080/",
     "height": 669
    },
    "executionInfo": {
     "elapsed": 129,
     "status": "ok",
     "timestamp": 1633043589005,
     "user": {
      "displayName": "Glenn Acree",
      "photoUrl": "https://lh3.googleusercontent.com/a/default-user=s64",
      "userId": "12083279749904406048"
     },
     "user_tz": 300
    },
    "id": "pndehNeB2BUF",
    "outputId": "0038db88-371d-427d-833a-cd4b546e74df"
   },
   "outputs": [
    {
     "data": {
      "text/html": [
       "<div>\n",
       "<style scoped>\n",
       "    .dataframe tbody tr th:only-of-type {\n",
       "        vertical-align: middle;\n",
       "    }\n",
       "\n",
       "    .dataframe tbody tr th {\n",
       "        vertical-align: top;\n",
       "    }\n",
       "\n",
       "    .dataframe thead th {\n",
       "        text-align: right;\n",
       "    }\n",
       "</style>\n",
       "<table border=\"1\" class=\"dataframe\">\n",
       "  <thead>\n",
       "    <tr style=\"text-align: right;\">\n",
       "      <th></th>\n",
       "      <th>AddressCity</th>\n",
       "      <th>CityNum</th>\n",
       "    </tr>\n",
       "  </thead>\n",
       "  <tbody>\n",
       "    <tr>\n",
       "      <th>131965</th>\n",
       "      <td>NASHVILLE</td>\n",
       "      <td>0</td>\n",
       "    </tr>\n",
       "    <tr>\n",
       "      <th>19499</th>\n",
       "      <td>MADISON</td>\n",
       "      <td>4</td>\n",
       "    </tr>\n",
       "    <tr>\n",
       "      <th>192902</th>\n",
       "      <td>ANTIOCH</td>\n",
       "      <td>11</td>\n",
       "    </tr>\n",
       "    <tr>\n",
       "      <th>191936</th>\n",
       "      <td>ANTIOCH</td>\n",
       "      <td>11</td>\n",
       "    </tr>\n",
       "    <tr>\n",
       "      <th>146018</th>\n",
       "      <td>NASHVILLE</td>\n",
       "      <td>0</td>\n",
       "    </tr>\n",
       "    <tr>\n",
       "      <th>28820</th>\n",
       "      <td>NASHVILLE</td>\n",
       "      <td>0</td>\n",
       "    </tr>\n",
       "    <tr>\n",
       "      <th>161387</th>\n",
       "      <td>ANTIOCH</td>\n",
       "      <td>11</td>\n",
       "    </tr>\n",
       "    <tr>\n",
       "      <th>29746</th>\n",
       "      <td>NASHVILLE</td>\n",
       "      <td>0</td>\n",
       "    </tr>\n",
       "    <tr>\n",
       "      <th>89034</th>\n",
       "      <td>NASHVILLE</td>\n",
       "      <td>0</td>\n",
       "    </tr>\n",
       "    <tr>\n",
       "      <th>151003</th>\n",
       "      <td>NASHVILLE</td>\n",
       "      <td>0</td>\n",
       "    </tr>\n",
       "    <tr>\n",
       "      <th>65004</th>\n",
       "      <td>HERMITAGE</td>\n",
       "      <td>7</td>\n",
       "    </tr>\n",
       "    <tr>\n",
       "      <th>1126</th>\n",
       "      <td>GOODLETTSVILLE</td>\n",
       "      <td>1</td>\n",
       "    </tr>\n",
       "    <tr>\n",
       "      <th>163952</th>\n",
       "      <td>ANTIOCH</td>\n",
       "      <td>11</td>\n",
       "    </tr>\n",
       "    <tr>\n",
       "      <th>70525</th>\n",
       "      <td>NASHVILLE</td>\n",
       "      <td>0</td>\n",
       "    </tr>\n",
       "    <tr>\n",
       "      <th>94694</th>\n",
       "      <td>NASHVILLE</td>\n",
       "      <td>0</td>\n",
       "    </tr>\n",
       "    <tr>\n",
       "      <th>36073</th>\n",
       "      <td>HERMITAGE</td>\n",
       "      <td>7</td>\n",
       "    </tr>\n",
       "    <tr>\n",
       "      <th>180691</th>\n",
       "      <td>ANTIOCH</td>\n",
       "      <td>11</td>\n",
       "    </tr>\n",
       "    <tr>\n",
       "      <th>181377</th>\n",
       "      <td>ANTIOCH</td>\n",
       "      <td>11</td>\n",
       "    </tr>\n",
       "    <tr>\n",
       "      <th>48341</th>\n",
       "      <td>HERMITAGE</td>\n",
       "      <td>7</td>\n",
       "    </tr>\n",
       "    <tr>\n",
       "      <th>180315</th>\n",
       "      <td>ANTIOCH</td>\n",
       "      <td>11</td>\n",
       "    </tr>\n",
       "  </tbody>\n",
       "</table>\n",
       "</div>"
      ],
      "text/plain": [
       "           AddressCity  CityNum\n",
       "131965       NASHVILLE        0\n",
       "19499          MADISON        4\n",
       "192902         ANTIOCH       11\n",
       "191936         ANTIOCH       11\n",
       "146018       NASHVILLE        0\n",
       "28820        NASHVILLE        0\n",
       "161387         ANTIOCH       11\n",
       "29746        NASHVILLE        0\n",
       "89034        NASHVILLE        0\n",
       "151003       NASHVILLE        0\n",
       "65004        HERMITAGE        7\n",
       "1126    GOODLETTSVILLE        1\n",
       "163952         ANTIOCH       11\n",
       "70525        NASHVILLE        0\n",
       "94694        NASHVILLE        0\n",
       "36073        HERMITAGE        7\n",
       "180691         ANTIOCH       11\n",
       "181377         ANTIOCH       11\n",
       "48341        HERMITAGE        7\n",
       "180315         ANTIOCH       11"
      ]
     },
     "execution_count": 6,
     "metadata": {},
     "output_type": "execute_result"
    }
   ],
   "source": [
    "# df[newcolumn] = pd.factorize(df[column])[0]\n",
    "# This method will take all the unique values of df[column]\n",
    "# and change them to integers from 0 - len(column) \n",
    "\n",
    "# pd.factorize() has two outputs ... \n",
    "# The first gives the integers from 0 - len(column) and\n",
    "# The second gives the original unique values of the column\n",
    "# Since we're interested in these first values we append [0]\n",
    "\n",
    "houses_2017['CityNum'] = pd.factorize(houses_2017['AddressCity'])[0]\n",
    "\n",
    "houses_2017[['AddressCity','CityNum']].sample(20)"
   ]
  },
  {
   "cell_type": "code",
   "execution_count": 27,
   "metadata": {},
   "outputs": [
    {
     "data": {
      "text/plain": [
       "NASHVILLE         134723\n",
       "ANTIOCH            22770\n",
       "HERMITAGE          10894\n",
       "MADISON             9771\n",
       "OLD HICKORY         5380\n",
       "BRENTWOOD           4983\n",
       "GOODLETTSVILLE      4422\n",
       "JOELTON             1506\n",
       "WHITES CREEK        1238\n",
       "NOLENSVILLE          800\n",
       "MOUNT JULIET         266\n",
       "PEGRAM               173\n",
       "ASHLAND CITY         157\n",
       "FRANKLIN              26\n",
       "LAVERGNE               3\n",
       "BELLEVUE               2\n",
       "Name: AddressCity, dtype: int64"
      ]
     },
     "execution_count": 27,
     "metadata": {},
     "output_type": "execute_result"
    }
   ],
   "source": [
    "houses_2017['AddressCity'].value_counts()"
   ]
  },
  {
   "cell_type": "code",
   "execution_count": 29,
   "metadata": {},
   "outputs": [
    {
     "data": {
      "text/html": [
       "<div>\n",
       "<style scoped>\n",
       "    .dataframe tbody tr th:only-of-type {\n",
       "        vertical-align: middle;\n",
       "    }\n",
       "\n",
       "    .dataframe tbody tr th {\n",
       "        vertical-align: top;\n",
       "    }\n",
       "\n",
       "    .dataframe thead th {\n",
       "        text-align: right;\n",
       "    }\n",
       "</style>\n",
       "<table border=\"1\" class=\"dataframe\">\n",
       "  <thead>\n",
       "    <tr style=\"text-align: right;\">\n",
       "      <th></th>\n",
       "      <th>APN</th>\n",
       "      <th>DistrictCode</th>\n",
       "      <th>CouncilDistrict</th>\n",
       "      <th>AddressFullAddress</th>\n",
       "      <th>AddressCity</th>\n",
       "      <th>AddressPostalCode</th>\n",
       "      <th>LAND</th>\n",
       "      <th>IMPR</th>\n",
       "      <th>TOTALAPPR</th>\n",
       "      <th>TOTALASSD</th>\n",
       "      <th>FinishedArea</th>\n",
       "      <th>CityNum</th>\n",
       "    </tr>\n",
       "  </thead>\n",
       "  <tbody>\n",
       "    <tr>\n",
       "      <th>131617</th>\n",
       "      <td>13210004100</td>\n",
       "      <td>OH</td>\n",
       "      <td>25</td>\n",
       "      <td>805 CURTISWOOD LN</td>\n",
       "      <td>NASHVILLE</td>\n",
       "      <td>37204</td>\n",
       "      <td>920000</td>\n",
       "      <td>3249000</td>\n",
       "      <td>4169000</td>\n",
       "      <td>1042250</td>\n",
       "      <td>11747.41992</td>\n",
       "      <td>0</td>\n",
       "    </tr>\n",
       "    <tr>\n",
       "      <th>187565</th>\n",
       "      <td>173040A27200CO</td>\n",
       "      <td>USD</td>\n",
       "      <td>31</td>\n",
       "      <td>5449 OAK CHASE DR</td>\n",
       "      <td>ANTIOCH</td>\n",
       "      <td>37013</td>\n",
       "      <td>41500</td>\n",
       "      <td>266700</td>\n",
       "      <td>308200</td>\n",
       "      <td>77050</td>\n",
       "      <td>3337.80005</td>\n",
       "      <td>11</td>\n",
       "    </tr>\n",
       "    <tr>\n",
       "      <th>121858</th>\n",
       "      <td>126160A47400CO</td>\n",
       "      <td>GSD</td>\n",
       "      <td>35</td>\n",
       "      <td>7131 RIVERFRONT DR</td>\n",
       "      <td>NASHVILLE</td>\n",
       "      <td>37221</td>\n",
       "      <td>54000</td>\n",
       "      <td>215500</td>\n",
       "      <td>269500</td>\n",
       "      <td>67375</td>\n",
       "      <td>2254.00000</td>\n",
       "      <td>0</td>\n",
       "    </tr>\n",
       "    <tr>\n",
       "      <th>40900</th>\n",
       "      <td>07202002000</td>\n",
       "      <td>USD</td>\n",
       "      <td>8</td>\n",
       "      <td>1013 IVERSON AVE</td>\n",
       "      <td>NASHVILLE</td>\n",
       "      <td>37216</td>\n",
       "      <td>85000</td>\n",
       "      <td>214700</td>\n",
       "      <td>299700</td>\n",
       "      <td>74925</td>\n",
       "      <td>1273.00000</td>\n",
       "      <td>0</td>\n",
       "    </tr>\n",
       "    <tr>\n",
       "      <th>88976</th>\n",
       "      <td>10304027100</td>\n",
       "      <td>USD</td>\n",
       "      <td>24</td>\n",
       "      <td>4101 IDAHO AVE</td>\n",
       "      <td>NASHVILLE</td>\n",
       "      <td>37209</td>\n",
       "      <td>225000</td>\n",
       "      <td>378200</td>\n",
       "      <td>603200</td>\n",
       "      <td>150800</td>\n",
       "      <td>3840.00000</td>\n",
       "      <td>0</td>\n",
       "    </tr>\n",
       "    <tr>\n",
       "      <th>27176</th>\n",
       "      <td>05914020700</td>\n",
       "      <td>USD</td>\n",
       "      <td>2</td>\n",
       "      <td>3830 ATWELL DR</td>\n",
       "      <td>NASHVILLE</td>\n",
       "      <td>37207</td>\n",
       "      <td>29000</td>\n",
       "      <td>120600</td>\n",
       "      <td>149600</td>\n",
       "      <td>37400</td>\n",
       "      <td>1102.00000</td>\n",
       "      <td>0</td>\n",
       "    </tr>\n",
       "    <tr>\n",
       "      <th>131483</th>\n",
       "      <td>13209009200</td>\n",
       "      <td>OH</td>\n",
       "      <td>25</td>\n",
       "      <td>4410 CADILLAC AVE</td>\n",
       "      <td>NASHVILLE</td>\n",
       "      <td>37204</td>\n",
       "      <td>361800</td>\n",
       "      <td>57200</td>\n",
       "      <td>419000</td>\n",
       "      <td>104750</td>\n",
       "      <td>0.00000</td>\n",
       "      <td>0</td>\n",
       "    </tr>\n",
       "    <tr>\n",
       "      <th>44840</th>\n",
       "      <td>072150A10000CO</td>\n",
       "      <td>USD</td>\n",
       "      <td>7</td>\n",
       "      <td>100 PORTER TER</td>\n",
       "      <td>NASHVILLE</td>\n",
       "      <td>37206</td>\n",
       "      <td>46000</td>\n",
       "      <td>127200</td>\n",
       "      <td>173200</td>\n",
       "      <td>69280</td>\n",
       "      <td>896.00000</td>\n",
       "      <td>0</td>\n",
       "    </tr>\n",
       "    <tr>\n",
       "      <th>100832</th>\n",
       "      <td>10705018200</td>\n",
       "      <td>USD</td>\n",
       "      <td>13</td>\n",
       "      <td>1901 ELANOR DR</td>\n",
       "      <td>NASHVILLE</td>\n",
       "      <td>37217</td>\n",
       "      <td>21500</td>\n",
       "      <td>69200</td>\n",
       "      <td>90700</td>\n",
       "      <td>22675</td>\n",
       "      <td>975.00000</td>\n",
       "      <td>0</td>\n",
       "    </tr>\n",
       "    <tr>\n",
       "      <th>157393</th>\n",
       "      <td>149050A23800CO</td>\n",
       "      <td>USD</td>\n",
       "      <td>28</td>\n",
       "      <td>238 PEPPER RIDGE CIR</td>\n",
       "      <td>ANTIOCH</td>\n",
       "      <td>37013</td>\n",
       "      <td>24000</td>\n",
       "      <td>94300</td>\n",
       "      <td>118300</td>\n",
       "      <td>29575</td>\n",
       "      <td>1341.00000</td>\n",
       "      <td>11</td>\n",
       "    </tr>\n",
       "  </tbody>\n",
       "</table>\n",
       "</div>"
      ],
      "text/plain": [
       "                   APN DistrictCode  CouncilDistrict    AddressFullAddress  \\\n",
       "131617     13210004100         OH                 25     805 CURTISWOOD LN   \n",
       "187565  173040A27200CO         USD                31     5449 OAK CHASE DR   \n",
       "121858  126160A47400CO         GSD                35    7131 RIVERFRONT DR   \n",
       "40900      07202002000         USD                 8      1013 IVERSON AVE   \n",
       "88976      10304027100         USD                24        4101 IDAHO AVE   \n",
       "27176      05914020700         USD                 2        3830 ATWELL DR   \n",
       "131483     13209009200         OH                 25     4410 CADILLAC AVE   \n",
       "44840   072150A10000CO         USD                 7        100 PORTER TER   \n",
       "100832     10705018200         USD                13        1901 ELANOR DR   \n",
       "157393  149050A23800CO         USD                28  238 PEPPER RIDGE CIR   \n",
       "\n",
       "       AddressCity  AddressPostalCode    LAND     IMPR  TOTALAPPR  TOTALASSD  \\\n",
       "131617   NASHVILLE              37204  920000  3249000    4169000    1042250   \n",
       "187565     ANTIOCH              37013   41500   266700     308200      77050   \n",
       "121858   NASHVILLE              37221   54000   215500     269500      67375   \n",
       "40900    NASHVILLE              37216   85000   214700     299700      74925   \n",
       "88976    NASHVILLE              37209  225000   378200     603200     150800   \n",
       "27176    NASHVILLE              37207   29000   120600     149600      37400   \n",
       "131483   NASHVILLE              37204  361800    57200     419000     104750   \n",
       "44840    NASHVILLE              37206   46000   127200     173200      69280   \n",
       "100832   NASHVILLE              37217   21500    69200      90700      22675   \n",
       "157393     ANTIOCH              37013   24000    94300     118300      29575   \n",
       "\n",
       "        FinishedArea  CityNum  \n",
       "131617   11747.41992        0  \n",
       "187565    3337.80005       11  \n",
       "121858    2254.00000        0  \n",
       "40900     1273.00000        0  \n",
       "88976     3840.00000        0  \n",
       "27176     1102.00000        0  \n",
       "131483       0.00000        0  \n",
       "44840      896.00000        0  \n",
       "100832     975.00000        0  \n",
       "157393    1341.00000       11  "
      ]
     },
     "execution_count": 29,
     "metadata": {},
     "output_type": "execute_result"
    }
   ],
   "source": [
    "houses_2017.sample(10)"
   ]
  },
  {
   "cell_type": "markdown",
   "metadata": {
    "id": "q8sBxw6p4CnO"
   },
   "source": [
    "# Your objective in this notebook is to increase the Model.score(X_test, y_test)) based upon the ML model predictions of the CityNum based upon the quantitative features known about each property.\n",
    "\n",
    "### You may alter the choice of data features (or even the target values).\n",
    "X = houses_2017[['LAND', 'IMPR', 'TOTALAPPR', 'TOTALASSD', 'FinishedArea']]\n",
    "\n",
    "y = houses_2017['CityNum']\n",
    "### -\n",
    "\n",
    "### You may also choose to alter the test_size value when you split the data into training and testing datasets.\n",
    "test_size= ?\n",
    "\n",
    "### -\n",
    "\n",
    "### In limited ways you can also 'play' with the model parameters such as ...\n",
    "\n",
    "n_neighbors= ? (Nearest Neighbors)\n",
    "\n",
    "n_estimators= ? (Random Forest)\n"
   ]
  },
  {
   "cell_type": "markdown",
   "metadata": {
    "id": "L_sq8jHXxczQ"
   },
   "source": [
    "### 1) In the following cells make changes to your choices of features included in X. Then run Models One & Four below to determine whether or not your predictions have improved.\n",
    "Note: This may take several iterations before you are content with the final results.\n",
    "\n"
   ]
  },
  {
   "cell_type": "code",
   "execution_count": 30,
   "metadata": {
    "executionInfo": {
     "elapsed": 129,
     "status": "ok",
     "timestamp": 1633043839752,
     "user": {
      "displayName": "Glenn Acree",
      "photoUrl": "https://lh3.googleusercontent.com/a/default-user=s64",
      "userId": "12083279749904406048"
     },
     "user_tz": 300
    },
    "id": "SiHP56wriV_o"
   },
   "outputs": [],
   "source": [
    "##### Don't Change This Cell #####\n",
    "##### In fact, you don't even need to execute this cell.\n",
    "##### If you make changes to the cell below ... \n",
    "##### that causes the cell to no longer function ... \n",
    "##### you can always copy the following 3 lines below and begin fresh!\n",
    "\n",
    "# Define the features and the target from our dataset\n",
    "X = houses_2017[['LAND', 'IMPR', 'TOTALAPPR', 'TOTALASSD', 'FinishedArea']]\n",
    "y = houses_2017['CityNum']"
   ]
  },
  {
   "cell_type": "code",
   "execution_count": 31,
   "metadata": {
    "executionInfo": {
     "elapsed": 126,
     "status": "ok",
     "timestamp": 1633044300075,
     "user": {
      "displayName": "Glenn Acree",
      "photoUrl": "https://lh3.googleusercontent.com/a/default-user=s64",
      "userId": "12083279749904406048"
     },
     "user_tz": 300
    },
    "id": "c1sH1BD6iXZX"
   },
   "outputs": [],
   "source": [
    "# ???\n",
    "##### Make your changes to X and y in this cell!!\n",
    "##### You have many options:\n",
    "##### Try one feature at a time, or two, or three, or four, or all\n",
    "##### In any combination.\n",
    "##### You certainly don't need to try them all, but give it some thought\n",
    "##### And determine what you think might work best.\n",
    "\n",
    "# Define the features and the target from our dataset ... for instance:\n",
    "X = houses_2017[['LAND',  'IMPR',  'FinishedArea', 'TOTALASSD', 'TOTALAPPR']]\n",
    "y = houses_2017['CityNum']"
   ]
  },
  {
   "cell_type": "markdown",
   "metadata": {
    "id": "9K13El6WwyGR"
   },
   "source": [
    "### Create Training and Testing Sets"
   ]
  },
  {
   "cell_type": "code",
   "execution_count": 36,
   "metadata": {
    "executionInfo": {
     "elapsed": 144,
     "status": "ok",
     "timestamp": 1633044301167,
     "user": {
      "displayName": "Glenn Acree",
      "photoUrl": "https://lh3.googleusercontent.com/a/default-user=s64",
      "userId": "12083279749904406048"
     },
     "user_tz": 300
    },
    "id": "11l2g-27wyQv"
   },
   "outputs": [],
   "source": [
    "# import the package to create the Training and Testing split.\n",
    "from sklearn.model_selection import train_test_split\n",
    "\n",
    "# The code below splits our X and y into training and testing sets. \n",
    "# Since test_size=0.30, the split will be 70% Training to 30% Testing sets.\n",
    "X_train, X_test, y_train, y_test = train_test_split(X, y, test_size=0.20, random_state=2)"
   ]
  },
  {
   "cell_type": "markdown",
   "metadata": {
    "id": "kXsJmY5GZHXc"
   },
   "source": [
    "## Model One: Select, Instantiate, Fit, Score"
   ]
  },
  {
   "cell_type": "code",
   "execution_count": 56,
   "metadata": {
    "colab": {
     "base_uri": "https://localhost:8080/"
    },
    "executionInfo": {
     "elapsed": 2233,
     "status": "ok",
     "timestamp": 1633044304372,
     "user": {
      "displayName": "Glenn Acree",
      "photoUrl": "https://lh3.googleusercontent.com/a/default-user=s64",
      "userId": "12083279749904406048"
     },
     "user_tz": 300
    },
    "id": "MbL5ZYiwZHkG",
    "outputId": "70f7ba12-8ef2-43e5-b515-5da45b67815a"
   },
   "outputs": [
    {
     "name": "stdout",
     "output_type": "stream",
     "text": [
      "0.7549907414453492\n"
     ]
    }
   ],
   "source": [
    "##### Don't make changes to this cell ...\n",
    "##### Just execute it ...\n",
    "##### After each adjustment to your feature selection\n",
    "\n",
    "## Select/Import the Model.\n",
    "from sklearn.neighbors import KNeighborsClassifier\n",
    "    \n",
    "## Instantiate the Knn model with ... neighbors. \n",
    "ModelOne = KNeighborsClassifier(n_neighbors=3)\n",
    "    \n",
    "## Fit the model on the training data.\n",
    "ModelOne.fit(X_train, y_train)\n",
    "    \n",
    "## See how the model performs on the test data.\n",
    "print(ModelOne.score(X_test, y_test))"
   ]
  },
  {
   "cell_type": "markdown",
   "metadata": {
    "id": "UbhrVoRaZ-Ae"
   },
   "source": [
    "## Model Four: Select, Instantiate, Fit, Score"
   ]
  },
  {
   "cell_type": "code",
   "execution_count": 58,
   "metadata": {
    "colab": {
     "base_uri": "https://localhost:8080/"
    },
    "executionInfo": {
     "elapsed": 785,
     "status": "ok",
     "timestamp": 1633044308943,
     "user": {
      "displayName": "Glenn Acree",
      "photoUrl": "https://lh3.googleusercontent.com/a/default-user=s64",
      "userId": "12083279749904406048"
     },
     "user_tz": 300
    },
    "id": "vRThW_jRZ-Pn",
    "outputId": "9c8eac9d-51d2-46f7-b2b5-de7a32597cb4"
   },
   "outputs": [
    {
     "name": "stdout",
     "output_type": "stream",
     "text": [
      "0.8086649925170586\n"
     ]
    }
   ],
   "source": [
    "##### Don't make changes to this cell ...\n",
    "##### Just execute it ...\n",
    "##### After each adjustment to your feature selection\n",
    "\n",
    "## Select/Import the Model.\n",
    "from sklearn.ensemble import RandomForestClassifier\n",
    "\n",
    "## Instantiate the Random Forest model\n",
    "ModelFour = RandomForestClassifier(n_estimators=10)\n",
    "\n",
    "## Fit the model on the training data.\n",
    "ModelFour.fit(X_train, y_train)\n",
    "\n",
    "## See how the model performs on the test data.\n",
    "print(ModelFour.score(X_test, y_test))"
   ]
  },
  {
   "cell_type": "markdown",
   "metadata": {
    "id": "7CMh56pfiX8V"
   },
   "source": [
    "### 2) After you have determined which feature selection gives you the best scores ...\n",
    "\n",
    "### In the text cell below, briefly describe the changes you made to the features, how these changes improved your results, and possible reasons for this improvement."
   ]
  },
  {
   "cell_type": "markdown",
   "metadata": {
    "id": "WKqe8d6NjGuj"
   },
   "source": [
    "I increased the n_estimators for ModelFour to 15. It got better as I increased it but it started taking long processing time. ModelOne gave the best performance at n_neighbors = 3."
   ]
  },
  {
   "cell_type": "markdown",
   "metadata": {
    "id": "jVSqUUROQfGY"
   },
   "source": [
    "### 3) Try other values for test_size in the following code. Then run the models below to determine whether or not your predictions have improved.\n",
    "\n",
    "Note: Again, this may take several iterations before you are content with the final results."
   ]
  },
  {
   "cell_type": "code",
   "execution_count": 73,
   "metadata": {
    "executionInfo": {
     "elapsed": 128,
     "status": "ok",
     "timestamp": 1633044962966,
     "user": {
      "displayName": "Glenn Acree",
      "photoUrl": "https://lh3.googleusercontent.com/a/default-user=s64",
      "userId": "12083279749904406048"
     },
     "user_tz": 300
    },
    "id": "W8BlbkAx3BWS"
   },
   "outputs": [],
   "source": [
    "# ???\n",
    "# import the package to create the Training and Testing split.\n",
    "from sklearn.model_selection import train_test_split\n",
    "\n",
    "##### Change the current value of test_size ... until you are satisfied ...\n",
    "##### That you cannot make additional improvement in the scores to follow.\n",
    "##### Note: It must be between 0.0 and 1.0 ... \n",
    "##### But these extremes will not be very helpful!!!\n",
    "\n",
    "# The code below splits our X and y into training and testing sets. \n",
    "X_train, X_test, y_train, y_test = train_test_split(X, y, test_size=0.20, random_state=2)"
   ]
  },
  {
   "cell_type": "markdown",
   "metadata": {
    "id": "YTwHnfSCiF1v"
   },
   "source": [
    "## Model One: Select, Instantiate, Fit, Score"
   ]
  },
  {
   "cell_type": "code",
   "execution_count": 68,
   "metadata": {
    "colab": {
     "base_uri": "https://localhost:8080/"
    },
    "executionInfo": {
     "elapsed": 943,
     "status": "ok",
     "timestamp": 1633044965157,
     "user": {
      "displayName": "Glenn Acree",
      "photoUrl": "https://lh3.googleusercontent.com/a/default-user=s64",
      "userId": "12083279749904406048"
     },
     "user_tz": 300
    },
    "id": "cWi-InQ0iGCt",
    "outputId": "793e0c8c-5012-41bb-b9c7-20bd55a236a2"
   },
   "outputs": [
    {
     "name": "stdout",
     "output_type": "stream",
     "text": [
      "0.7549907414453492\n"
     ]
    }
   ],
   "source": [
    "##### Don't make changes to this cell ...\n",
    "##### Just execute it ...\n",
    "##### After each adjustment to your feature selection\n",
    "\n",
    "## Select/Import the Model.\n",
    "from sklearn.neighbors import KNeighborsClassifier\n",
    "    \n",
    "## Instantiate the Knn model with ... neighbors. \n",
    "ModelOne = KNeighborsClassifier(n_neighbors=3)\n",
    "    \n",
    "## Fit the model on the training data.\n",
    "ModelOne.fit(X_train, y_train)\n",
    "    \n",
    "## See how the model performs on the test data.\n",
    "print(ModelOne.score(X_test, y_test))"
   ]
  },
  {
   "cell_type": "markdown",
   "metadata": {
    "id": "SgAzIC5jiGPv"
   },
   "source": [
    "## Model Four: Select, Instantiate, Fit, Score"
   ]
  },
  {
   "cell_type": "code",
   "execution_count": 74,
   "metadata": {
    "colab": {
     "base_uri": "https://localhost:8080/"
    },
    "executionInfo": {
     "elapsed": 937,
     "status": "ok",
     "timestamp": 1633044969636,
     "user": {
      "displayName": "Glenn Acree",
      "photoUrl": "https://lh3.googleusercontent.com/a/default-user=s64",
      "userId": "12083279749904406048"
     },
     "user_tz": 300
    },
    "id": "WmR0lCVXiGh9",
    "outputId": "b3552004-1b6e-4180-9d11-e4d60ffb5220"
   },
   "outputs": [
    {
     "name": "stdout",
     "output_type": "stream",
     "text": [
      "0.813636709535043\n"
     ]
    }
   ],
   "source": [
    "##### Don't make changes to this cell ...\n",
    "##### Just execute it ...\n",
    "##### After each adjustment to your feature selection\n",
    "\n",
    "## Select/Import the Model.\n",
    "from sklearn.ensemble import RandomForestClassifier\n",
    "\n",
    "## Instantiate the Random Forest model\n",
    "ModelFour = RandomForestClassifier(n_estimators=15)\n",
    "\n",
    "## Fit the model on the training data.\n",
    "ModelFour.fit(X_train, y_train)\n",
    "\n",
    "## See how the model performs on the test data.\n",
    "print(ModelFour.score(X_test, y_test))"
   ]
  },
  {
   "cell_type": "markdown",
   "metadata": {
    "id": "7qWcnmuWmMYO"
   },
   "source": [
    "### 4) In the following cell briefly describe the changes you made above, how they improved your results, and possible reasons for this improvement."
   ]
  },
  {
   "cell_type": "markdown",
   "metadata": {
    "id": "jqnIMt6gmMq2"
   },
   "source": [
    "I changed the train test split to 80-20 ratio which improved the results. It might be because there was more data to train on. Or it could be because model overfit for the smaller test data."
   ]
  },
  {
   "cell_type": "markdown",
   "metadata": {
    "id": "C2bZZYWBmetd"
   },
   "source": [
    "### 5) Try other values for n_neighbors in the following code. Then run the model below to determine whether or not your predictions have improved.\n",
    "\n",
    "Note: As a simplification ... the K Nearest Neighbors Model predicts the target of a test element by looking at the targets of the K elements in the training set that are 'closest' to it. Changing K (the number of neighbors) can change your results."
   ]
  },
  {
   "cell_type": "markdown",
   "metadata": {
    "id": "T9ufxJzGQmEq"
   },
   "source": [
    "## Model One: Select, Instantiate, Fit, Score"
   ]
  },
  {
   "cell_type": "code",
   "execution_count": 82,
   "metadata": {
    "colab": {
     "base_uri": "https://localhost:8080/"
    },
    "executionInfo": {
     "elapsed": 995,
     "status": "ok",
     "timestamp": 1633045066472,
     "user": {
      "displayName": "Glenn Acree",
      "photoUrl": "https://lh3.googleusercontent.com/a/default-user=s64",
      "userId": "12083279749904406048"
     },
     "user_tz": 300
    },
    "id": "XQi1-17M0oJ1",
    "outputId": "79ad7c10-11fb-4490-db0c-5270aa7f5e9b"
   },
   "outputs": [
    {
     "name": "stdout",
     "output_type": "stream",
     "text": [
      "0.7549907414453492\n"
     ]
    }
   ],
   "source": [
    "# ???\n",
    "##### Note: The only change you need to make is to the number for n_neighbors= ?\n",
    "##### Change the current value of n_neighbors ... until you are satisfied ...\n",
    "##### That you cannot make additional improvement in the scores to follow.\n",
    "\n",
    "## Select/Import the Model.\n",
    "from sklearn.neighbors import KNeighborsClassifier\n",
    "    \n",
    "## Instantiate the Knn model with ... neighbors. \n",
    "ModelOne = KNeighborsClassifier(n_neighbors=3)\n",
    "    \n",
    "## Fit the model on the training data.\n",
    "ModelOne.fit(X_train, y_train)\n",
    "    \n",
    "## See how the model performs on the test data.\n",
    "print(ModelOne.score(X_test, y_test))\n"
   ]
  },
  {
   "cell_type": "markdown",
   "metadata": {
    "id": "6smkNDFRmvef"
   },
   "source": [
    "### 6) In the following cell briefly describe the changes you made above, how they improved your results, and possible reasons for this improvement."
   ]
  },
  {
   "cell_type": "markdown",
   "metadata": {
    "id": "matvma53mviH"
   },
   "source": [
    "I changed the n_neighbors to different values but n=3 gave the best results."
   ]
  },
  {
   "cell_type": "markdown",
   "metadata": {
    "id": "gUcweU0QnMar"
   },
   "source": [
    "### 7) Try other values for n_estimators in the following code. Then run the model below to determine whether or not your predictions have improved. \n",
    "\n",
    "Note: As a simplification ... the Random Forest Model uses multiple Decision Trees (of course) and chooses the best among them. Changing the number of Decision Trees considered could alter your results."
   ]
  },
  {
   "cell_type": "markdown",
   "metadata": {
    "id": "z8syKzB0RZU3"
   },
   "source": [
    "## Model Four: Select, Instantiate, Fit, Score"
   ]
  },
  {
   "cell_type": "code",
   "execution_count": 83,
   "metadata": {
    "colab": {
     "base_uri": "https://localhost:8080/"
    },
    "executionInfo": {
     "elapsed": 2066,
     "status": "ok",
     "timestamp": 1633045240284,
     "user": {
      "displayName": "Glenn Acree",
      "photoUrl": "https://lh3.googleusercontent.com/a/default-user=s64",
      "userId": "12083279749904406048"
     },
     "user_tz": 300
    },
    "id": "HQCyWYI259aq",
    "outputId": "b3538a87-e63c-49c2-e14e-972b3e9d3f2a"
   },
   "outputs": [
    {
     "name": "stdout",
     "output_type": "stream",
     "text": [
      "0.8139918321791847\n"
     ]
    }
   ],
   "source": [
    "# ???\n",
    "##### Note: The only change you need to make is to the number for n_estimators= ?\n",
    "##### Change the current value of n_estimators= ... until you are satisfied ...\n",
    "##### That you cannot make additional improvement in the scores to follow.\n",
    "\n",
    "## Select/Import the Model.\n",
    "from sklearn.ensemble import RandomForestClassifier\n",
    "\n",
    "## Instantiate the Random Forest model\n",
    "ModelFour = RandomForestClassifier(n_estimators=15)\n",
    "\n",
    "## Fit the model on the training data.\n",
    "ModelFour.fit(X_train, y_train)\n",
    "\n",
    "## See how the model performs on the test data.\n",
    "print(ModelFour.score(X_test, y_test))"
   ]
  },
  {
   "cell_type": "markdown",
   "metadata": {
    "id": "1Ih7sHc1nvS6"
   },
   "source": [
    "### 8) In the following cell briefly describe the changes you made above, how they improved your results, and possible reasons for this improvement."
   ]
  },
  {
   "cell_type": "markdown",
   "metadata": {
    "id": "pzeJ-5g5n0Kx"
   },
   "source": [
    "Changing n_estimators to higher numbers gave better results with more processing time."
   ]
  },
  {
   "cell_type": "markdown",
   "metadata": {
    "id": "XFGQ3h5gn9kS"
   },
   "source": [
    "### 9) What was your overall best score? ... and from which model did it come?"
   ]
  },
  {
   "cell_type": "markdown",
   "metadata": {
    "id": "P3sOaPZHn9ns"
   },
   "source": [
    "It was 0.8139918321791847 with RandomForestClassifier."
   ]
  },
  {
   "cell_type": "markdown",
   "metadata": {
    "id": "UbTaCwGtjODq"
   },
   "source": [
    "# Optionally for those looking for a bit of a challenge:\n",
    "\n",
    "### 10) Take the time to redefine the values in 'CityNum' to reduce the number of possible targets. Then run the models below to determine whether or not your predictions have improved.\n",
    "\n",
    "Note1: There are several options here: You might limit your dataframe to only a few of the AddressCity values (rather than the full 16) or you might have more than one AddressCity value lead to a single CityNum value ... grouping some of the AddressCity values together. You might think of other possibilities as well.\n",
    "\n",
    "Note2: Again, this may take several iterations before you are content with the final results."
   ]
  },
  {
   "cell_type": "code",
   "execution_count": null,
   "metadata": {
    "id": "xCf5xtb87Y25"
   },
   "outputs": [],
   "source": [
    "# This cell is only included for a reference if needed. \n",
    "#Use, alter, or ignore at your own discretion.\n",
    "\n",
    "# Create a new column and give it an initial value.\n",
    "houses_2017['CityNum'] = 99\n",
    "\n",
    "# Create a counter that will be incremented to assign distinct values to each AddressCity\n",
    "i = 0\n",
    "\n",
    "# Loop through each of the unique AddressCity values \n",
    "for city in houses_2017['AddressCity'].unique():\n",
    "  # assign the counter value to the 'CityNum' for that AddressCity\n",
    "  houses_2017.loc[houses_2017['AddressCity']== city, 'CityNum'] = i\n",
    "  # increment the counter for use for the next AddressCity\n",
    "  i+=1\n",
    "  \n",
    "# View a sample of the resulting dataframe\n",
    "houses_2017[['AddressCity','CityNum']].sample(20)\n",
    "\n",
    "# Notice that the assigned numbers are given \n",
    "# in the order of houses_2017['AddressCity'].unique() as seen above.\n",
    "# NASHVILLE - 0, GOODLETTSVILLE - 1, JOELTON - 2, ..."
   ]
  },
  {
   "cell_type": "code",
   "execution_count": 78,
   "metadata": {
    "executionInfo": {
     "elapsed": 116,
     "status": "ok",
     "timestamp": 1633045826282,
     "user": {
      "displayName": "Glenn Acree",
      "photoUrl": "https://lh3.googleusercontent.com/a/default-user=s64",
      "userId": "12083279749904406048"
     },
     "user_tz": 300
    },
    "id": "TUSR2BZTkau8"
   },
   "outputs": [],
   "source": [
    "# ???\n",
    "# Redefine the values in 'CityNum'\n",
    "\n",
    "# Change all the values of 'CityNum' to a specific number.\n",
    "houses_2017['CityNum'] = 99\n",
    "\n",
    "# Hint: Rather than looping through all the 'Addresscity' cities, ...\n",
    "# you might use something of the following form (for each value you wish to change):\n",
    "houses_2017.loc[houses_2017['AddressCity']== 'NASHVILLE', 'CityNum'] = 0\n",
    "houses_2017.loc[houses_2017['AddressCity']== 'JOELTON', 'CityNum'] = 1\n",
    "# Note: So if you make no changes in this cell then the value in 'CityNum' ...\n",
    "# Will be 0 if 'AddressCity' is 'NASHVILLE', \n",
    "# 1 if 'AddressCity' is 'JOELTON' and 99 otherwise.\n",
    "# Thus the models are only predicting if a housing unit is in NASHVILLE,\n",
    "# JOELTON,  or not.\n",
    "# What other cities (or groups of cities) might you choose to consider?\n",
    "# Which are easier to predict? Which are more difficult?\n"
   ]
  },
  {
   "cell_type": "markdown",
   "metadata": {
    "id": "UcyxRLwrzndr"
   },
   "source": [
    "### Create Training and Testing Sets"
   ]
  },
  {
   "cell_type": "code",
   "execution_count": 79,
   "metadata": {
    "executionInfo": {
     "elapsed": 118,
     "status": "ok",
     "timestamp": 1633045828862,
     "user": {
      "displayName": "Glenn Acree",
      "photoUrl": "https://lh3.googleusercontent.com/a/default-user=s64",
      "userId": "12083279749904406048"
     },
     "user_tz": 300
    },
    "id": "WqIX8cHpznqD"
   },
   "outputs": [],
   "source": [
    "# import the package to create the Training and Testing split.\n",
    "from sklearn.model_selection import train_test_split\n",
    "\n",
    "# The code below splits our X and y into training and testing sets. \n",
    "# Since test_size=0.30, the split will be 70% Training to 30% Testing sets.\n",
    "X_train, X_test, y_train, y_test = train_test_split(X, y, test_size=0.10, random_state=2)"
   ]
  },
  {
   "cell_type": "markdown",
   "metadata": {
    "id": "X7t0ptaHt2eh"
   },
   "source": [
    "## Model One: Select, Instantiate, Fit, Score"
   ]
  },
  {
   "cell_type": "code",
   "execution_count": 80,
   "metadata": {
    "colab": {
     "base_uri": "https://localhost:8080/"
    },
    "executionInfo": {
     "elapsed": 965,
     "status": "ok",
     "timestamp": 1633045831997,
     "user": {
      "displayName": "Glenn Acree",
      "photoUrl": "https://lh3.googleusercontent.com/a/default-user=s64",
      "userId": "12083279749904406048"
     },
     "user_tz": 300
    },
    "id": "2XcgNC4kt2qg",
    "outputId": "527609e6-35a8-48cb-fbe5-67ef74a6068c"
   },
   "outputs": [
    {
     "name": "stdout",
     "output_type": "stream",
     "text": [
      "0.8167106331168831\n"
     ]
    }
   ],
   "source": [
    "##### Don't make changes to this cell ... except possibly to n_neighbors.\n",
    "##### Just execute it ...\n",
    "##### After each adjustment to your feature selection\n",
    "\n",
    "## Select/Import the Model.\n",
    "from sklearn.neighbors import KNeighborsClassifier\n",
    "    \n",
    "## Instantiate the Knn model with ... neighbors. \n",
    "ModelOne = KNeighborsClassifier(n_neighbors=3)\n",
    "    \n",
    "## Fit the model on the training data.\n",
    "ModelOne.fit(X_train, y_train)\n",
    "    \n",
    "## See how the model performs on the test data.\n",
    "print(ModelOne.score(X_test, y_test))"
   ]
  },
  {
   "cell_type": "code",
   "execution_count": 81,
   "metadata": {
    "colab": {
     "base_uri": "https://localhost:8080/",
     "height": 979
    },
    "executionInfo": {
     "elapsed": 126,
     "status": "ok",
     "timestamp": 1633045833397,
     "user": {
      "displayName": "Glenn Acree",
      "photoUrl": "https://lh3.googleusercontent.com/a/default-user=s64",
      "userId": "12083279749904406048"
     },
     "user_tz": 300
    },
    "id": "q-TszXM6HDLa",
    "outputId": "1a74717c-a1b6-4c15-eb85-f5a7dc9b5e27"
   },
   "outputs": [
    {
     "data": {
      "text/html": [
       "<div>\n",
       "<style scoped>\n",
       "    .dataframe tbody tr th:only-of-type {\n",
       "        vertical-align: middle;\n",
       "    }\n",
       "\n",
       "    .dataframe tbody tr th {\n",
       "        vertical-align: top;\n",
       "    }\n",
       "\n",
       "    .dataframe thead th {\n",
       "        text-align: right;\n",
       "    }\n",
       "</style>\n",
       "<table border=\"1\" class=\"dataframe\">\n",
       "  <thead>\n",
       "    <tr style=\"text-align: right;\">\n",
       "      <th></th>\n",
       "      <th>AddressCity</th>\n",
       "      <th>CityNum</th>\n",
       "    </tr>\n",
       "  </thead>\n",
       "  <tbody>\n",
       "    <tr>\n",
       "      <th>116220</th>\n",
       "      <td>NASHVILLE</td>\n",
       "      <td>0</td>\n",
       "    </tr>\n",
       "    <tr>\n",
       "      <th>157581</th>\n",
       "      <td>ANTIOCH</td>\n",
       "      <td>99</td>\n",
       "    </tr>\n",
       "    <tr>\n",
       "      <th>25727</th>\n",
       "      <td>NASHVILLE</td>\n",
       "      <td>0</td>\n",
       "    </tr>\n",
       "    <tr>\n",
       "      <th>109981</th>\n",
       "      <td>NASHVILLE</td>\n",
       "      <td>0</td>\n",
       "    </tr>\n",
       "    <tr>\n",
       "      <th>129488</th>\n",
       "      <td>NASHVILLE</td>\n",
       "      <td>0</td>\n",
       "    </tr>\n",
       "    <tr>\n",
       "      <th>137652</th>\n",
       "      <td>NASHVILLE</td>\n",
       "      <td>0</td>\n",
       "    </tr>\n",
       "    <tr>\n",
       "      <th>144259</th>\n",
       "      <td>NASHVILLE</td>\n",
       "      <td>0</td>\n",
       "    </tr>\n",
       "    <tr>\n",
       "      <th>40179</th>\n",
       "      <td>NASHVILLE</td>\n",
       "      <td>0</td>\n",
       "    </tr>\n",
       "    <tr>\n",
       "      <th>186812</th>\n",
       "      <td>NASHVILLE</td>\n",
       "      <td>0</td>\n",
       "    </tr>\n",
       "    <tr>\n",
       "      <th>71300</th>\n",
       "      <td>NASHVILLE</td>\n",
       "      <td>0</td>\n",
       "    </tr>\n",
       "    <tr>\n",
       "      <th>114670</th>\n",
       "      <td>NASHVILLE</td>\n",
       "      <td>0</td>\n",
       "    </tr>\n",
       "    <tr>\n",
       "      <th>194921</th>\n",
       "      <td>BRENTWOOD</td>\n",
       "      <td>99</td>\n",
       "    </tr>\n",
       "    <tr>\n",
       "      <th>63091</th>\n",
       "      <td>NASHVILLE</td>\n",
       "      <td>0</td>\n",
       "    </tr>\n",
       "    <tr>\n",
       "      <th>64119</th>\n",
       "      <td>NASHVILLE</td>\n",
       "      <td>0</td>\n",
       "    </tr>\n",
       "    <tr>\n",
       "      <th>49996</th>\n",
       "      <td>HERMITAGE</td>\n",
       "      <td>99</td>\n",
       "    </tr>\n",
       "    <tr>\n",
       "      <th>155728</th>\n",
       "      <td>NASHVILLE</td>\n",
       "      <td>0</td>\n",
       "    </tr>\n",
       "    <tr>\n",
       "      <th>130814</th>\n",
       "      <td>NASHVILLE</td>\n",
       "      <td>0</td>\n",
       "    </tr>\n",
       "    <tr>\n",
       "      <th>18887</th>\n",
       "      <td>MADISON</td>\n",
       "      <td>99</td>\n",
       "    </tr>\n",
       "    <tr>\n",
       "      <th>67150</th>\n",
       "      <td>HERMITAGE</td>\n",
       "      <td>99</td>\n",
       "    </tr>\n",
       "    <tr>\n",
       "      <th>87438</th>\n",
       "      <td>NASHVILLE</td>\n",
       "      <td>0</td>\n",
       "    </tr>\n",
       "    <tr>\n",
       "      <th>27775</th>\n",
       "      <td>NASHVILLE</td>\n",
       "      <td>0</td>\n",
       "    </tr>\n",
       "    <tr>\n",
       "      <th>172443</th>\n",
       "      <td>NASHVILLE</td>\n",
       "      <td>0</td>\n",
       "    </tr>\n",
       "    <tr>\n",
       "      <th>42710</th>\n",
       "      <td>NASHVILLE</td>\n",
       "      <td>0</td>\n",
       "    </tr>\n",
       "    <tr>\n",
       "      <th>162889</th>\n",
       "      <td>ANTIOCH</td>\n",
       "      <td>99</td>\n",
       "    </tr>\n",
       "    <tr>\n",
       "      <th>191433</th>\n",
       "      <td>ANTIOCH</td>\n",
       "      <td>99</td>\n",
       "    </tr>\n",
       "    <tr>\n",
       "      <th>51798</th>\n",
       "      <td>NASHVILLE</td>\n",
       "      <td>0</td>\n",
       "    </tr>\n",
       "    <tr>\n",
       "      <th>23094</th>\n",
       "      <td>OLD HICKORY</td>\n",
       "      <td>99</td>\n",
       "    </tr>\n",
       "    <tr>\n",
       "      <th>189691</th>\n",
       "      <td>ANTIOCH</td>\n",
       "      <td>99</td>\n",
       "    </tr>\n",
       "    <tr>\n",
       "      <th>98894</th>\n",
       "      <td>NASHVILLE</td>\n",
       "      <td>0</td>\n",
       "    </tr>\n",
       "    <tr>\n",
       "      <th>154056</th>\n",
       "      <td>ANTIOCH</td>\n",
       "      <td>99</td>\n",
       "    </tr>\n",
       "  </tbody>\n",
       "</table>\n",
       "</div>"
      ],
      "text/plain": [
       "        AddressCity  CityNum\n",
       "116220    NASHVILLE        0\n",
       "157581      ANTIOCH       99\n",
       "25727     NASHVILLE        0\n",
       "109981    NASHVILLE        0\n",
       "129488    NASHVILLE        0\n",
       "137652    NASHVILLE        0\n",
       "144259    NASHVILLE        0\n",
       "40179     NASHVILLE        0\n",
       "186812    NASHVILLE        0\n",
       "71300     NASHVILLE        0\n",
       "114670    NASHVILLE        0\n",
       "194921    BRENTWOOD       99\n",
       "63091     NASHVILLE        0\n",
       "64119     NASHVILLE        0\n",
       "49996     HERMITAGE       99\n",
       "155728    NASHVILLE        0\n",
       "130814    NASHVILLE        0\n",
       "18887       MADISON       99\n",
       "67150     HERMITAGE       99\n",
       "87438     NASHVILLE        0\n",
       "27775     NASHVILLE        0\n",
       "172443    NASHVILLE        0\n",
       "42710     NASHVILLE        0\n",
       "162889      ANTIOCH       99\n",
       "191433      ANTIOCH       99\n",
       "51798     NASHVILLE        0\n",
       "23094   OLD HICKORY       99\n",
       "189691      ANTIOCH       99\n",
       "98894     NASHVILLE        0\n",
       "154056      ANTIOCH       99"
      ]
     },
     "execution_count": 81,
     "metadata": {},
     "output_type": "execute_result"
    }
   ],
   "source": [
    "houses_2017[['AddressCity','CityNum']].sample(30)"
   ]
  },
  {
   "cell_type": "markdown",
   "metadata": {
    "id": "Ctod8LEbt256"
   },
   "source": [
    "## Model Four: Select, Instantiate, Fit, Score"
   ]
  },
  {
   "cell_type": "code",
   "execution_count": 76,
   "metadata": {
    "colab": {
     "base_uri": "https://localhost:8080/"
    },
    "executionInfo": {
     "elapsed": 766,
     "status": "ok",
     "timestamp": 1633045663949,
     "user": {
      "displayName": "Glenn Acree",
      "photoUrl": "https://lh3.googleusercontent.com/a/default-user=s64",
      "userId": "12083279749904406048"
     },
     "user_tz": 300
    },
    "id": "AzAT9gmRt3GT",
    "outputId": "e428e401-7642-4c1a-f0de-d2c80fc9205d"
   },
   "outputs": [
    {
     "name": "stdout",
     "output_type": "stream",
     "text": [
      "0.9912743506493507\n"
     ]
    }
   ],
   "source": [
    "##### Don't make changes to this cell ... except possibly to n_estimators.\n",
    "##### Just execute it ...\n",
    "##### After each adjustment to your feature selection\n",
    "\n",
    "## Select/Import the Model.\n",
    "from sklearn.ensemble import RandomForestClassifier\n",
    "\n",
    "## Instantiate the Random Forest model\n",
    "ModelFour = RandomForestClassifier(n_estimators=3)\n",
    "\n",
    "## Fit the model on the training data.\n",
    "ModelFour.fit(X_train, y_train)\n",
    "\n",
    "## See how the model performs on the test data.\n",
    "print(ModelFour.score(X_test, y_test))"
   ]
  },
  {
   "cell_type": "markdown",
   "metadata": {
    "id": "r6iV5ZO8l4bD"
   },
   "source": [
    "### 11) In the following cell briefly describe the changes you made above, how they improved your results, and possible reasons for this improvement."
   ]
  },
  {
   "cell_type": "markdown",
   "metadata": {
    "id": "BUhb8ButfNAb"
   },
   "source": [
    "'# ???'"
   ]
  }
 ],
 "metadata": {
  "colab": {
   "collapsed_sections": [],
   "name": "Pivot_ML5Assign_Nashville_Housing_ML.ipynb",
   "provenance": []
  },
  "kernelspec": {
   "display_name": "Python 3 (ipykernel)",
   "language": "python",
   "name": "python3"
  },
  "language_info": {
   "codemirror_mode": {
    "name": "ipython",
    "version": 3
   },
   "file_extension": ".py",
   "mimetype": "text/x-python",
   "name": "python",
   "nbconvert_exporter": "python",
   "pygments_lexer": "ipython3",
   "version": "3.9.13"
  }
 },
 "nbformat": 4,
 "nbformat_minor": 1
}

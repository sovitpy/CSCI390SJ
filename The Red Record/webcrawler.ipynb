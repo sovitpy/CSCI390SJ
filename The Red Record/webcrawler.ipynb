{
 "cells": [
  {
   "cell_type": "code",
   "execution_count": null,
   "metadata": {},
   "outputs": [],
   "source": [
    "#import libs\n",
    "import requests\n",
    "import lxml \n",
    "import pandas as pd\n",
    "from bs4 import BeautifulSoup, PageElement\n"
   ]
  },
  {
   "cell_type": "code",
   "execution_count": null,
   "metadata": {},
   "outputs": [],
   "source": [
    "url = \"https://en.wikipedia.org/wiki/List_of_lynching_victims_in_the_United_States#\"\n",
    "page = requests.get(url)\n",
    "\n",
    "soup = BeautifulSoup(page.text, 'lxml')"
   ]
  },
  {
   "cell_type": "code",
   "execution_count": null,
   "metadata": {},
   "outputs": [],
   "source": [
    "#list of all tables on the page and finds the table at index 2 (table at index 2 was the 19th century plug in the index for your table)\n",
    "table = soup.find_all('table')[2]\n",
    "row_data = []\n",
    "\n",
    "for row in table.find_all('tr'):\n",
    "  col = row.find_all('td')\n",
    "  col = [ele.text.strip() for ele in col]\n",
    "  row_data.append(col)\n",
    "\n",
    "df = pd.DataFrame(row_data)\n",
    "df"
   ]
  },
  {
   "cell_type": "code",
   "execution_count": null,
   "metadata": {},
   "outputs": [],
   "source": [
    "#convert to csv (change the name to what ever years you were assign to)\n",
    "df.to_csv(\"Wiki_lynchings.csv\")"
   ]
  }
 ],
 "metadata": {
  "language_info": {
   "name": "python"
  },
  "orig_nbformat": 4
 },
 "nbformat": 4,
 "nbformat_minor": 2
}
